{
  "nbformat": 4,
  "nbformat_minor": 0,
  "metadata": {
    "colab": {
      "provenance": []
    },
    "kernelspec": {
      "name": "python3",
      "display_name": "Python 3"
    },
    "accelerator": "GPU",
    "widgets": {
      "application/vnd.jupyter.widget-state+json": {
        "66a2008847da4078bbf79d19518d82eb": {
          "model_module": "@jupyter-widgets/controls",
          "model_name": "HBoxModel",
          "model_module_version": "1.5.0",
          "state": {
            "_dom_classes": [],
            "_model_module": "@jupyter-widgets/controls",
            "_model_module_version": "1.5.0",
            "_model_name": "HBoxModel",
            "_view_count": null,
            "_view_module": "@jupyter-widgets/controls",
            "_view_module_version": "1.5.0",
            "_view_name": "HBoxView",
            "box_style": "",
            "children": [
              "IPY_MODEL_fdeff64227cc42deb321a29a08583a5a",
              "IPY_MODEL_33f199aeba78438ebe9f1e6f42d5738a",
              "IPY_MODEL_5ef1a52f257349dda9444751cc4dad57"
            ],
            "layout": "IPY_MODEL_8690619f09194084a4301307d0ff3427"
          }
        },
        "fdeff64227cc42deb321a29a08583a5a": {
          "model_module": "@jupyter-widgets/controls",
          "model_name": "HTMLModel",
          "model_module_version": "1.5.0",
          "state": {
            "_dom_classes": [],
            "_model_module": "@jupyter-widgets/controls",
            "_model_module_version": "1.5.0",
            "_model_name": "HTMLModel",
            "_view_count": null,
            "_view_module": "@jupyter-widgets/controls",
            "_view_module_version": "1.5.0",
            "_view_name": "HTMLView",
            "description": "",
            "description_tooltip": null,
            "layout": "IPY_MODEL_366dc9bd516c41a9a867122a31ec70d6",
            "placeholder": "​",
            "style": "IPY_MODEL_1519b468c8864d3d97e2987044ce3464",
            "value": "spiece.model: 100%"
          }
        },
        "33f199aeba78438ebe9f1e6f42d5738a": {
          "model_module": "@jupyter-widgets/controls",
          "model_name": "FloatProgressModel",
          "model_module_version": "1.5.0",
          "state": {
            "_dom_classes": [],
            "_model_module": "@jupyter-widgets/controls",
            "_model_module_version": "1.5.0",
            "_model_name": "FloatProgressModel",
            "_view_count": null,
            "_view_module": "@jupyter-widgets/controls",
            "_view_module_version": "1.5.0",
            "_view_name": "ProgressView",
            "bar_style": "success",
            "description": "",
            "description_tooltip": null,
            "layout": "IPY_MODEL_b1e8c7dfd91b4836a942afe87969cdd5",
            "max": 798011,
            "min": 0,
            "orientation": "horizontal",
            "style": "IPY_MODEL_03e7c25138f8449e9e64eedf71ad610a",
            "value": 798011
          }
        },
        "5ef1a52f257349dda9444751cc4dad57": {
          "model_module": "@jupyter-widgets/controls",
          "model_name": "HTMLModel",
          "model_module_version": "1.5.0",
          "state": {
            "_dom_classes": [],
            "_model_module": "@jupyter-widgets/controls",
            "_model_module_version": "1.5.0",
            "_model_name": "HTMLModel",
            "_view_count": null,
            "_view_module": "@jupyter-widgets/controls",
            "_view_module_version": "1.5.0",
            "_view_name": "HTMLView",
            "description": "",
            "description_tooltip": null,
            "layout": "IPY_MODEL_a5cabe195b564f41a84d1f5d5d081ec7",
            "placeholder": "​",
            "style": "IPY_MODEL_ac5e7db6279d4d22b958f5b78ca85053",
            "value": " 798k/798k [00:00&lt;00:00, 3.98MB/s]"
          }
        },
        "8690619f09194084a4301307d0ff3427": {
          "model_module": "@jupyter-widgets/base",
          "model_name": "LayoutModel",
          "model_module_version": "1.2.0",
          "state": {
            "_model_module": "@jupyter-widgets/base",
            "_model_module_version": "1.2.0",
            "_model_name": "LayoutModel",
            "_view_count": null,
            "_view_module": "@jupyter-widgets/base",
            "_view_module_version": "1.2.0",
            "_view_name": "LayoutView",
            "align_content": null,
            "align_items": null,
            "align_self": null,
            "border": null,
            "bottom": null,
            "display": null,
            "flex": null,
            "flex_flow": null,
            "grid_area": null,
            "grid_auto_columns": null,
            "grid_auto_flow": null,
            "grid_auto_rows": null,
            "grid_column": null,
            "grid_gap": null,
            "grid_row": null,
            "grid_template_areas": null,
            "grid_template_columns": null,
            "grid_template_rows": null,
            "height": null,
            "justify_content": null,
            "justify_items": null,
            "left": null,
            "margin": null,
            "max_height": null,
            "max_width": null,
            "min_height": null,
            "min_width": null,
            "object_fit": null,
            "object_position": null,
            "order": null,
            "overflow": null,
            "overflow_x": null,
            "overflow_y": null,
            "padding": null,
            "right": null,
            "top": null,
            "visibility": null,
            "width": null
          }
        },
        "366dc9bd516c41a9a867122a31ec70d6": {
          "model_module": "@jupyter-widgets/base",
          "model_name": "LayoutModel",
          "model_module_version": "1.2.0",
          "state": {
            "_model_module": "@jupyter-widgets/base",
            "_model_module_version": "1.2.0",
            "_model_name": "LayoutModel",
            "_view_count": null,
            "_view_module": "@jupyter-widgets/base",
            "_view_module_version": "1.2.0",
            "_view_name": "LayoutView",
            "align_content": null,
            "align_items": null,
            "align_self": null,
            "border": null,
            "bottom": null,
            "display": null,
            "flex": null,
            "flex_flow": null,
            "grid_area": null,
            "grid_auto_columns": null,
            "grid_auto_flow": null,
            "grid_auto_rows": null,
            "grid_column": null,
            "grid_gap": null,
            "grid_row": null,
            "grid_template_areas": null,
            "grid_template_columns": null,
            "grid_template_rows": null,
            "height": null,
            "justify_content": null,
            "justify_items": null,
            "left": null,
            "margin": null,
            "max_height": null,
            "max_width": null,
            "min_height": null,
            "min_width": null,
            "object_fit": null,
            "object_position": null,
            "order": null,
            "overflow": null,
            "overflow_x": null,
            "overflow_y": null,
            "padding": null,
            "right": null,
            "top": null,
            "visibility": null,
            "width": null
          }
        },
        "1519b468c8864d3d97e2987044ce3464": {
          "model_module": "@jupyter-widgets/controls",
          "model_name": "DescriptionStyleModel",
          "model_module_version": "1.5.0",
          "state": {
            "_model_module": "@jupyter-widgets/controls",
            "_model_module_version": "1.5.0",
            "_model_name": "DescriptionStyleModel",
            "_view_count": null,
            "_view_module": "@jupyter-widgets/base",
            "_view_module_version": "1.2.0",
            "_view_name": "StyleView",
            "description_width": ""
          }
        },
        "b1e8c7dfd91b4836a942afe87969cdd5": {
          "model_module": "@jupyter-widgets/base",
          "model_name": "LayoutModel",
          "model_module_version": "1.2.0",
          "state": {
            "_model_module": "@jupyter-widgets/base",
            "_model_module_version": "1.2.0",
            "_model_name": "LayoutModel",
            "_view_count": null,
            "_view_module": "@jupyter-widgets/base",
            "_view_module_version": "1.2.0",
            "_view_name": "LayoutView",
            "align_content": null,
            "align_items": null,
            "align_self": null,
            "border": null,
            "bottom": null,
            "display": null,
            "flex": null,
            "flex_flow": null,
            "grid_area": null,
            "grid_auto_columns": null,
            "grid_auto_flow": null,
            "grid_auto_rows": null,
            "grid_column": null,
            "grid_gap": null,
            "grid_row": null,
            "grid_template_areas": null,
            "grid_template_columns": null,
            "grid_template_rows": null,
            "height": null,
            "justify_content": null,
            "justify_items": null,
            "left": null,
            "margin": null,
            "max_height": null,
            "max_width": null,
            "min_height": null,
            "min_width": null,
            "object_fit": null,
            "object_position": null,
            "order": null,
            "overflow": null,
            "overflow_x": null,
            "overflow_y": null,
            "padding": null,
            "right": null,
            "top": null,
            "visibility": null,
            "width": null
          }
        },
        "03e7c25138f8449e9e64eedf71ad610a": {
          "model_module": "@jupyter-widgets/controls",
          "model_name": "ProgressStyleModel",
          "model_module_version": "1.5.0",
          "state": {
            "_model_module": "@jupyter-widgets/controls",
            "_model_module_version": "1.5.0",
            "_model_name": "ProgressStyleModel",
            "_view_count": null,
            "_view_module": "@jupyter-widgets/base",
            "_view_module_version": "1.2.0",
            "_view_name": "StyleView",
            "bar_color": null,
            "description_width": ""
          }
        },
        "a5cabe195b564f41a84d1f5d5d081ec7": {
          "model_module": "@jupyter-widgets/base",
          "model_name": "LayoutModel",
          "model_module_version": "1.2.0",
          "state": {
            "_model_module": "@jupyter-widgets/base",
            "_model_module_version": "1.2.0",
            "_model_name": "LayoutModel",
            "_view_count": null,
            "_view_module": "@jupyter-widgets/base",
            "_view_module_version": "1.2.0",
            "_view_name": "LayoutView",
            "align_content": null,
            "align_items": null,
            "align_self": null,
            "border": null,
            "bottom": null,
            "display": null,
            "flex": null,
            "flex_flow": null,
            "grid_area": null,
            "grid_auto_columns": null,
            "grid_auto_flow": null,
            "grid_auto_rows": null,
            "grid_column": null,
            "grid_gap": null,
            "grid_row": null,
            "grid_template_areas": null,
            "grid_template_columns": null,
            "grid_template_rows": null,
            "height": null,
            "justify_content": null,
            "justify_items": null,
            "left": null,
            "margin": null,
            "max_height": null,
            "max_width": null,
            "min_height": null,
            "min_width": null,
            "object_fit": null,
            "object_position": null,
            "order": null,
            "overflow": null,
            "overflow_x": null,
            "overflow_y": null,
            "padding": null,
            "right": null,
            "top": null,
            "visibility": null,
            "width": null
          }
        },
        "ac5e7db6279d4d22b958f5b78ca85053": {
          "model_module": "@jupyter-widgets/controls",
          "model_name": "DescriptionStyleModel",
          "model_module_version": "1.5.0",
          "state": {
            "_model_module": "@jupyter-widgets/controls",
            "_model_module_version": "1.5.0",
            "_model_name": "DescriptionStyleModel",
            "_view_count": null,
            "_view_module": "@jupyter-widgets/base",
            "_view_module_version": "1.2.0",
            "_view_name": "StyleView",
            "description_width": ""
          }
        },
        "c944764305034363bc26a658311405f7": {
          "model_module": "@jupyter-widgets/controls",
          "model_name": "HBoxModel",
          "model_module_version": "1.5.0",
          "state": {
            "_dom_classes": [],
            "_model_module": "@jupyter-widgets/controls",
            "_model_module_version": "1.5.0",
            "_model_name": "HBoxModel",
            "_view_count": null,
            "_view_module": "@jupyter-widgets/controls",
            "_view_module_version": "1.5.0",
            "_view_name": "HBoxView",
            "box_style": "",
            "children": [
              "IPY_MODEL_17e7a5e18cc748ad8c91879df12b746b",
              "IPY_MODEL_b9586cdf0d74479e9cfb93c9954af6b8",
              "IPY_MODEL_b8b5afa6053e4329aecb785364fc69ca"
            ],
            "layout": "IPY_MODEL_6fd55c8871954fedae76582926a7a651"
          }
        },
        "17e7a5e18cc748ad8c91879df12b746b": {
          "model_module": "@jupyter-widgets/controls",
          "model_name": "HTMLModel",
          "model_module_version": "1.5.0",
          "state": {
            "_dom_classes": [],
            "_model_module": "@jupyter-widgets/controls",
            "_model_module_version": "1.5.0",
            "_model_name": "HTMLModel",
            "_view_count": null,
            "_view_module": "@jupyter-widgets/controls",
            "_view_module_version": "1.5.0",
            "_view_name": "HTMLView",
            "description": "",
            "description_tooltip": null,
            "layout": "IPY_MODEL_bc7d37136b7d42a2b33a2a0f43ad34a6",
            "placeholder": "​",
            "style": "IPY_MODEL_bb6212d8191345239f66d8b6007c62e4",
            "value": "tokenizer.json: 100%"
          }
        },
        "b9586cdf0d74479e9cfb93c9954af6b8": {
          "model_module": "@jupyter-widgets/controls",
          "model_name": "FloatProgressModel",
          "model_module_version": "1.5.0",
          "state": {
            "_dom_classes": [],
            "_model_module": "@jupyter-widgets/controls",
            "_model_module_version": "1.5.0",
            "_model_name": "FloatProgressModel",
            "_view_count": null,
            "_view_module": "@jupyter-widgets/controls",
            "_view_module_version": "1.5.0",
            "_view_name": "ProgressView",
            "bar_style": "success",
            "description": "",
            "description_tooltip": null,
            "layout": "IPY_MODEL_b83e2088adff463f8e2d2e247938cee1",
            "max": 1382015,
            "min": 0,
            "orientation": "horizontal",
            "style": "IPY_MODEL_cefb90b9a8504f63b196cf41f7f16f30",
            "value": 1382015
          }
        },
        "b8b5afa6053e4329aecb785364fc69ca": {
          "model_module": "@jupyter-widgets/controls",
          "model_name": "HTMLModel",
          "model_module_version": "1.5.0",
          "state": {
            "_dom_classes": [],
            "_model_module": "@jupyter-widgets/controls",
            "_model_module_version": "1.5.0",
            "_model_name": "HTMLModel",
            "_view_count": null,
            "_view_module": "@jupyter-widgets/controls",
            "_view_module_version": "1.5.0",
            "_view_name": "HTMLView",
            "description": "",
            "description_tooltip": null,
            "layout": "IPY_MODEL_17412f471c10416e9d28a2d6a6a1345a",
            "placeholder": "​",
            "style": "IPY_MODEL_933829231e6f446a821c1d4dc51ec60a",
            "value": " 1.38M/1.38M [00:00&lt;00:00, 5.23MB/s]"
          }
        },
        "6fd55c8871954fedae76582926a7a651": {
          "model_module": "@jupyter-widgets/base",
          "model_name": "LayoutModel",
          "model_module_version": "1.2.0",
          "state": {
            "_model_module": "@jupyter-widgets/base",
            "_model_module_version": "1.2.0",
            "_model_name": "LayoutModel",
            "_view_count": null,
            "_view_module": "@jupyter-widgets/base",
            "_view_module_version": "1.2.0",
            "_view_name": "LayoutView",
            "align_content": null,
            "align_items": null,
            "align_self": null,
            "border": null,
            "bottom": null,
            "display": null,
            "flex": null,
            "flex_flow": null,
            "grid_area": null,
            "grid_auto_columns": null,
            "grid_auto_flow": null,
            "grid_auto_rows": null,
            "grid_column": null,
            "grid_gap": null,
            "grid_row": null,
            "grid_template_areas": null,
            "grid_template_columns": null,
            "grid_template_rows": null,
            "height": null,
            "justify_content": null,
            "justify_items": null,
            "left": null,
            "margin": null,
            "max_height": null,
            "max_width": null,
            "min_height": null,
            "min_width": null,
            "object_fit": null,
            "object_position": null,
            "order": null,
            "overflow": null,
            "overflow_x": null,
            "overflow_y": null,
            "padding": null,
            "right": null,
            "top": null,
            "visibility": null,
            "width": null
          }
        },
        "bc7d37136b7d42a2b33a2a0f43ad34a6": {
          "model_module": "@jupyter-widgets/base",
          "model_name": "LayoutModel",
          "model_module_version": "1.2.0",
          "state": {
            "_model_module": "@jupyter-widgets/base",
            "_model_module_version": "1.2.0",
            "_model_name": "LayoutModel",
            "_view_count": null,
            "_view_module": "@jupyter-widgets/base",
            "_view_module_version": "1.2.0",
            "_view_name": "LayoutView",
            "align_content": null,
            "align_items": null,
            "align_self": null,
            "border": null,
            "bottom": null,
            "display": null,
            "flex": null,
            "flex_flow": null,
            "grid_area": null,
            "grid_auto_columns": null,
            "grid_auto_flow": null,
            "grid_auto_rows": null,
            "grid_column": null,
            "grid_gap": null,
            "grid_row": null,
            "grid_template_areas": null,
            "grid_template_columns": null,
            "grid_template_rows": null,
            "height": null,
            "justify_content": null,
            "justify_items": null,
            "left": null,
            "margin": null,
            "max_height": null,
            "max_width": null,
            "min_height": null,
            "min_width": null,
            "object_fit": null,
            "object_position": null,
            "order": null,
            "overflow": null,
            "overflow_x": null,
            "overflow_y": null,
            "padding": null,
            "right": null,
            "top": null,
            "visibility": null,
            "width": null
          }
        },
        "bb6212d8191345239f66d8b6007c62e4": {
          "model_module": "@jupyter-widgets/controls",
          "model_name": "DescriptionStyleModel",
          "model_module_version": "1.5.0",
          "state": {
            "_model_module": "@jupyter-widgets/controls",
            "_model_module_version": "1.5.0",
            "_model_name": "DescriptionStyleModel",
            "_view_count": null,
            "_view_module": "@jupyter-widgets/base",
            "_view_module_version": "1.2.0",
            "_view_name": "StyleView",
            "description_width": ""
          }
        },
        "b83e2088adff463f8e2d2e247938cee1": {
          "model_module": "@jupyter-widgets/base",
          "model_name": "LayoutModel",
          "model_module_version": "1.2.0",
          "state": {
            "_model_module": "@jupyter-widgets/base",
            "_model_module_version": "1.2.0",
            "_model_name": "LayoutModel",
            "_view_count": null,
            "_view_module": "@jupyter-widgets/base",
            "_view_module_version": "1.2.0",
            "_view_name": "LayoutView",
            "align_content": null,
            "align_items": null,
            "align_self": null,
            "border": null,
            "bottom": null,
            "display": null,
            "flex": null,
            "flex_flow": null,
            "grid_area": null,
            "grid_auto_columns": null,
            "grid_auto_flow": null,
            "grid_auto_rows": null,
            "grid_column": null,
            "grid_gap": null,
            "grid_row": null,
            "grid_template_areas": null,
            "grid_template_columns": null,
            "grid_template_rows": null,
            "height": null,
            "justify_content": null,
            "justify_items": null,
            "left": null,
            "margin": null,
            "max_height": null,
            "max_width": null,
            "min_height": null,
            "min_width": null,
            "object_fit": null,
            "object_position": null,
            "order": null,
            "overflow": null,
            "overflow_x": null,
            "overflow_y": null,
            "padding": null,
            "right": null,
            "top": null,
            "visibility": null,
            "width": null
          }
        },
        "cefb90b9a8504f63b196cf41f7f16f30": {
          "model_module": "@jupyter-widgets/controls",
          "model_name": "ProgressStyleModel",
          "model_module_version": "1.5.0",
          "state": {
            "_model_module": "@jupyter-widgets/controls",
            "_model_module_version": "1.5.0",
            "_model_name": "ProgressStyleModel",
            "_view_count": null,
            "_view_module": "@jupyter-widgets/base",
            "_view_module_version": "1.2.0",
            "_view_name": "StyleView",
            "bar_color": null,
            "description_width": ""
          }
        },
        "17412f471c10416e9d28a2d6a6a1345a": {
          "model_module": "@jupyter-widgets/base",
          "model_name": "LayoutModel",
          "model_module_version": "1.2.0",
          "state": {
            "_model_module": "@jupyter-widgets/base",
            "_model_module_version": "1.2.0",
            "_model_name": "LayoutModel",
            "_view_count": null,
            "_view_module": "@jupyter-widgets/base",
            "_view_module_version": "1.2.0",
            "_view_name": "LayoutView",
            "align_content": null,
            "align_items": null,
            "align_self": null,
            "border": null,
            "bottom": null,
            "display": null,
            "flex": null,
            "flex_flow": null,
            "grid_area": null,
            "grid_auto_columns": null,
            "grid_auto_flow": null,
            "grid_auto_rows": null,
            "grid_column": null,
            "grid_gap": null,
            "grid_row": null,
            "grid_template_areas": null,
            "grid_template_columns": null,
            "grid_template_rows": null,
            "height": null,
            "justify_content": null,
            "justify_items": null,
            "left": null,
            "margin": null,
            "max_height": null,
            "max_width": null,
            "min_height": null,
            "min_width": null,
            "object_fit": null,
            "object_position": null,
            "order": null,
            "overflow": null,
            "overflow_x": null,
            "overflow_y": null,
            "padding": null,
            "right": null,
            "top": null,
            "visibility": null,
            "width": null
          }
        },
        "933829231e6f446a821c1d4dc51ec60a": {
          "model_module": "@jupyter-widgets/controls",
          "model_name": "DescriptionStyleModel",
          "model_module_version": "1.5.0",
          "state": {
            "_model_module": "@jupyter-widgets/controls",
            "_model_module_version": "1.5.0",
            "_model_name": "DescriptionStyleModel",
            "_view_count": null,
            "_view_module": "@jupyter-widgets/base",
            "_view_module_version": "1.2.0",
            "_view_name": "StyleView",
            "description_width": ""
          }
        },
        "f8e33f827b98493d8ece91de8ce78c71": {
          "model_module": "@jupyter-widgets/controls",
          "model_name": "HBoxModel",
          "model_module_version": "1.5.0",
          "state": {
            "_dom_classes": [],
            "_model_module": "@jupyter-widgets/controls",
            "_model_module_version": "1.5.0",
            "_model_name": "HBoxModel",
            "_view_count": null,
            "_view_module": "@jupyter-widgets/controls",
            "_view_module_version": "1.5.0",
            "_view_name": "HBoxView",
            "box_style": "",
            "children": [
              "IPY_MODEL_daefeaee89094dab8ca39976d8232c88",
              "IPY_MODEL_263d5186afa64de4a21927bfe827055e",
              "IPY_MODEL_11dbc65385a441e086f4f036fd9d23db"
            ],
            "layout": "IPY_MODEL_448bae4ec0344897bb0a430f0ba5113d"
          }
        },
        "daefeaee89094dab8ca39976d8232c88": {
          "model_module": "@jupyter-widgets/controls",
          "model_name": "HTMLModel",
          "model_module_version": "1.5.0",
          "state": {
            "_dom_classes": [],
            "_model_module": "@jupyter-widgets/controls",
            "_model_module_version": "1.5.0",
            "_model_name": "HTMLModel",
            "_view_count": null,
            "_view_module": "@jupyter-widgets/controls",
            "_view_module_version": "1.5.0",
            "_view_name": "HTMLView",
            "description": "",
            "description_tooltip": null,
            "layout": "IPY_MODEL_db76a41a8ad9483a9bdb1ab38ac78643",
            "placeholder": "​",
            "style": "IPY_MODEL_629f4531fdfc4d02b1b9b2aef4c6781a",
            "value": "config.json: 100%"
          }
        },
        "263d5186afa64de4a21927bfe827055e": {
          "model_module": "@jupyter-widgets/controls",
          "model_name": "FloatProgressModel",
          "model_module_version": "1.5.0",
          "state": {
            "_dom_classes": [],
            "_model_module": "@jupyter-widgets/controls",
            "_model_module_version": "1.5.0",
            "_model_name": "FloatProgressModel",
            "_view_count": null,
            "_view_module": "@jupyter-widgets/controls",
            "_view_module_version": "1.5.0",
            "_view_name": "ProgressView",
            "bar_style": "success",
            "description": "",
            "description_tooltip": null,
            "layout": "IPY_MODEL_476d81d8a70c4150a3bcc00baad87e17",
            "max": 760,
            "min": 0,
            "orientation": "horizontal",
            "style": "IPY_MODEL_0afdc9d54e1d4a61add9febd122bc643",
            "value": 760
          }
        },
        "11dbc65385a441e086f4f036fd9d23db": {
          "model_module": "@jupyter-widgets/controls",
          "model_name": "HTMLModel",
          "model_module_version": "1.5.0",
          "state": {
            "_dom_classes": [],
            "_model_module": "@jupyter-widgets/controls",
            "_model_module_version": "1.5.0",
            "_model_name": "HTMLModel",
            "_view_count": null,
            "_view_module": "@jupyter-widgets/controls",
            "_view_module_version": "1.5.0",
            "_view_name": "HTMLView",
            "description": "",
            "description_tooltip": null,
            "layout": "IPY_MODEL_86135ff623a5450399044edac9b6e369",
            "placeholder": "​",
            "style": "IPY_MODEL_f0327c94cc0a43e9966bda93464fd7b7",
            "value": " 760/760 [00:00&lt;00:00, 62.4kB/s]"
          }
        },
        "448bae4ec0344897bb0a430f0ba5113d": {
          "model_module": "@jupyter-widgets/base",
          "model_name": "LayoutModel",
          "model_module_version": "1.2.0",
          "state": {
            "_model_module": "@jupyter-widgets/base",
            "_model_module_version": "1.2.0",
            "_model_name": "LayoutModel",
            "_view_count": null,
            "_view_module": "@jupyter-widgets/base",
            "_view_module_version": "1.2.0",
            "_view_name": "LayoutView",
            "align_content": null,
            "align_items": null,
            "align_self": null,
            "border": null,
            "bottom": null,
            "display": null,
            "flex": null,
            "flex_flow": null,
            "grid_area": null,
            "grid_auto_columns": null,
            "grid_auto_flow": null,
            "grid_auto_rows": null,
            "grid_column": null,
            "grid_gap": null,
            "grid_row": null,
            "grid_template_areas": null,
            "grid_template_columns": null,
            "grid_template_rows": null,
            "height": null,
            "justify_content": null,
            "justify_items": null,
            "left": null,
            "margin": null,
            "max_height": null,
            "max_width": null,
            "min_height": null,
            "min_width": null,
            "object_fit": null,
            "object_position": null,
            "order": null,
            "overflow": null,
            "overflow_x": null,
            "overflow_y": null,
            "padding": null,
            "right": null,
            "top": null,
            "visibility": null,
            "width": null
          }
        },
        "db76a41a8ad9483a9bdb1ab38ac78643": {
          "model_module": "@jupyter-widgets/base",
          "model_name": "LayoutModel",
          "model_module_version": "1.2.0",
          "state": {
            "_model_module": "@jupyter-widgets/base",
            "_model_module_version": "1.2.0",
            "_model_name": "LayoutModel",
            "_view_count": null,
            "_view_module": "@jupyter-widgets/base",
            "_view_module_version": "1.2.0",
            "_view_name": "LayoutView",
            "align_content": null,
            "align_items": null,
            "align_self": null,
            "border": null,
            "bottom": null,
            "display": null,
            "flex": null,
            "flex_flow": null,
            "grid_area": null,
            "grid_auto_columns": null,
            "grid_auto_flow": null,
            "grid_auto_rows": null,
            "grid_column": null,
            "grid_gap": null,
            "grid_row": null,
            "grid_template_areas": null,
            "grid_template_columns": null,
            "grid_template_rows": null,
            "height": null,
            "justify_content": null,
            "justify_items": null,
            "left": null,
            "margin": null,
            "max_height": null,
            "max_width": null,
            "min_height": null,
            "min_width": null,
            "object_fit": null,
            "object_position": null,
            "order": null,
            "overflow": null,
            "overflow_x": null,
            "overflow_y": null,
            "padding": null,
            "right": null,
            "top": null,
            "visibility": null,
            "width": null
          }
        },
        "629f4531fdfc4d02b1b9b2aef4c6781a": {
          "model_module": "@jupyter-widgets/controls",
          "model_name": "DescriptionStyleModel",
          "model_module_version": "1.5.0",
          "state": {
            "_model_module": "@jupyter-widgets/controls",
            "_model_module_version": "1.5.0",
            "_model_name": "DescriptionStyleModel",
            "_view_count": null,
            "_view_module": "@jupyter-widgets/base",
            "_view_module_version": "1.2.0",
            "_view_name": "StyleView",
            "description_width": ""
          }
        },
        "476d81d8a70c4150a3bcc00baad87e17": {
          "model_module": "@jupyter-widgets/base",
          "model_name": "LayoutModel",
          "model_module_version": "1.2.0",
          "state": {
            "_model_module": "@jupyter-widgets/base",
            "_model_module_version": "1.2.0",
            "_model_name": "LayoutModel",
            "_view_count": null,
            "_view_module": "@jupyter-widgets/base",
            "_view_module_version": "1.2.0",
            "_view_name": "LayoutView",
            "align_content": null,
            "align_items": null,
            "align_self": null,
            "border": null,
            "bottom": null,
            "display": null,
            "flex": null,
            "flex_flow": null,
            "grid_area": null,
            "grid_auto_columns": null,
            "grid_auto_flow": null,
            "grid_auto_rows": null,
            "grid_column": null,
            "grid_gap": null,
            "grid_row": null,
            "grid_template_areas": null,
            "grid_template_columns": null,
            "grid_template_rows": null,
            "height": null,
            "justify_content": null,
            "justify_items": null,
            "left": null,
            "margin": null,
            "max_height": null,
            "max_width": null,
            "min_height": null,
            "min_width": null,
            "object_fit": null,
            "object_position": null,
            "order": null,
            "overflow": null,
            "overflow_x": null,
            "overflow_y": null,
            "padding": null,
            "right": null,
            "top": null,
            "visibility": null,
            "width": null
          }
        },
        "0afdc9d54e1d4a61add9febd122bc643": {
          "model_module": "@jupyter-widgets/controls",
          "model_name": "ProgressStyleModel",
          "model_module_version": "1.5.0",
          "state": {
            "_model_module": "@jupyter-widgets/controls",
            "_model_module_version": "1.5.0",
            "_model_name": "ProgressStyleModel",
            "_view_count": null,
            "_view_module": "@jupyter-widgets/base",
            "_view_module_version": "1.2.0",
            "_view_name": "StyleView",
            "bar_color": null,
            "description_width": ""
          }
        },
        "86135ff623a5450399044edac9b6e369": {
          "model_module": "@jupyter-widgets/base",
          "model_name": "LayoutModel",
          "model_module_version": "1.2.0",
          "state": {
            "_model_module": "@jupyter-widgets/base",
            "_model_module_version": "1.2.0",
            "_model_name": "LayoutModel",
            "_view_count": null,
            "_view_module": "@jupyter-widgets/base",
            "_view_module_version": "1.2.0",
            "_view_name": "LayoutView",
            "align_content": null,
            "align_items": null,
            "align_self": null,
            "border": null,
            "bottom": null,
            "display": null,
            "flex": null,
            "flex_flow": null,
            "grid_area": null,
            "grid_auto_columns": null,
            "grid_auto_flow": null,
            "grid_auto_rows": null,
            "grid_column": null,
            "grid_gap": null,
            "grid_row": null,
            "grid_template_areas": null,
            "grid_template_columns": null,
            "grid_template_rows": null,
            "height": null,
            "justify_content": null,
            "justify_items": null,
            "left": null,
            "margin": null,
            "max_height": null,
            "max_width": null,
            "min_height": null,
            "min_width": null,
            "object_fit": null,
            "object_position": null,
            "order": null,
            "overflow": null,
            "overflow_x": null,
            "overflow_y": null,
            "padding": null,
            "right": null,
            "top": null,
            "visibility": null,
            "width": null
          }
        },
        "f0327c94cc0a43e9966bda93464fd7b7": {
          "model_module": "@jupyter-widgets/controls",
          "model_name": "DescriptionStyleModel",
          "model_module_version": "1.5.0",
          "state": {
            "_model_module": "@jupyter-widgets/controls",
            "_model_module_version": "1.5.0",
            "_model_name": "DescriptionStyleModel",
            "_view_count": null,
            "_view_module": "@jupyter-widgets/base",
            "_view_module_version": "1.2.0",
            "_view_name": "StyleView",
            "description_width": ""
          }
        },
        "77aa0d845100428db0ec6d3921fc2b02": {
          "model_module": "@jupyter-widgets/controls",
          "model_name": "HBoxModel",
          "model_module_version": "1.5.0",
          "state": {
            "_dom_classes": [],
            "_model_module": "@jupyter-widgets/controls",
            "_model_module_version": "1.5.0",
            "_model_name": "HBoxModel",
            "_view_count": null,
            "_view_module": "@jupyter-widgets/controls",
            "_view_module_version": "1.5.0",
            "_view_name": "HBoxView",
            "box_style": "",
            "children": [
              "IPY_MODEL_fe1d580fd3d244639de4b2bf8bd0025f",
              "IPY_MODEL_0cdf2587261b40a1920e41d3f5fcbfba",
              "IPY_MODEL_a0244b57d010446097a7d356d20ec9da"
            ],
            "layout": "IPY_MODEL_c1cd124b6a7c4a9894f1d26c31f4ab36"
          }
        },
        "fe1d580fd3d244639de4b2bf8bd0025f": {
          "model_module": "@jupyter-widgets/controls",
          "model_name": "HTMLModel",
          "model_module_version": "1.5.0",
          "state": {
            "_dom_classes": [],
            "_model_module": "@jupyter-widgets/controls",
            "_model_module_version": "1.5.0",
            "_model_name": "HTMLModel",
            "_view_count": null,
            "_view_module": "@jupyter-widgets/controls",
            "_view_module_version": "1.5.0",
            "_view_name": "HTMLView",
            "description": "",
            "description_tooltip": null,
            "layout": "IPY_MODEL_ef9c48766e68444b83a1f3c3193de16e",
            "placeholder": "​",
            "style": "IPY_MODEL_fd7fd01c31414b1ca487627145dfe6a2",
            "value": "pytorch_model.bin: 100%"
          }
        },
        "0cdf2587261b40a1920e41d3f5fcbfba": {
          "model_module": "@jupyter-widgets/controls",
          "model_name": "FloatProgressModel",
          "model_module_version": "1.5.0",
          "state": {
            "_dom_classes": [],
            "_model_module": "@jupyter-widgets/controls",
            "_model_module_version": "1.5.0",
            "_model_name": "FloatProgressModel",
            "_view_count": null,
            "_view_module": "@jupyter-widgets/controls",
            "_view_module_version": "1.5.0",
            "_view_name": "ProgressView",
            "bar_style": "success",
            "description": "",
            "description_tooltip": null,
            "layout": "IPY_MODEL_ddaa81737f8d474faee2187a08598f61",
            "max": 467042463,
            "min": 0,
            "orientation": "horizontal",
            "style": "IPY_MODEL_3c22594bd9364a1aadf98ff9c8ff36c0",
            "value": 467042463
          }
        },
        "a0244b57d010446097a7d356d20ec9da": {
          "model_module": "@jupyter-widgets/controls",
          "model_name": "HTMLModel",
          "model_module_version": "1.5.0",
          "state": {
            "_dom_classes": [],
            "_model_module": "@jupyter-widgets/controls",
            "_model_module_version": "1.5.0",
            "_model_name": "HTMLModel",
            "_view_count": null,
            "_view_module": "@jupyter-widgets/controls",
            "_view_module_version": "1.5.0",
            "_view_name": "HTMLView",
            "description": "",
            "description_tooltip": null,
            "layout": "IPY_MODEL_cbb6e7a9eabe47aea61fa2e6a019f230",
            "placeholder": "​",
            "style": "IPY_MODEL_6778207080d04b2c82e4f892ef7e66d7",
            "value": " 467M/467M [00:02&lt;00:00, 252MB/s]"
          }
        },
        "c1cd124b6a7c4a9894f1d26c31f4ab36": {
          "model_module": "@jupyter-widgets/base",
          "model_name": "LayoutModel",
          "model_module_version": "1.2.0",
          "state": {
            "_model_module": "@jupyter-widgets/base",
            "_model_module_version": "1.2.0",
            "_model_name": "LayoutModel",
            "_view_count": null,
            "_view_module": "@jupyter-widgets/base",
            "_view_module_version": "1.2.0",
            "_view_name": "LayoutView",
            "align_content": null,
            "align_items": null,
            "align_self": null,
            "border": null,
            "bottom": null,
            "display": null,
            "flex": null,
            "flex_flow": null,
            "grid_area": null,
            "grid_auto_columns": null,
            "grid_auto_flow": null,
            "grid_auto_rows": null,
            "grid_column": null,
            "grid_gap": null,
            "grid_row": null,
            "grid_template_areas": null,
            "grid_template_columns": null,
            "grid_template_rows": null,
            "height": null,
            "justify_content": null,
            "justify_items": null,
            "left": null,
            "margin": null,
            "max_height": null,
            "max_width": null,
            "min_height": null,
            "min_width": null,
            "object_fit": null,
            "object_position": null,
            "order": null,
            "overflow": null,
            "overflow_x": null,
            "overflow_y": null,
            "padding": null,
            "right": null,
            "top": null,
            "visibility": null,
            "width": null
          }
        },
        "ef9c48766e68444b83a1f3c3193de16e": {
          "model_module": "@jupyter-widgets/base",
          "model_name": "LayoutModel",
          "model_module_version": "1.2.0",
          "state": {
            "_model_module": "@jupyter-widgets/base",
            "_model_module_version": "1.2.0",
            "_model_name": "LayoutModel",
            "_view_count": null,
            "_view_module": "@jupyter-widgets/base",
            "_view_module_version": "1.2.0",
            "_view_name": "LayoutView",
            "align_content": null,
            "align_items": null,
            "align_self": null,
            "border": null,
            "bottom": null,
            "display": null,
            "flex": null,
            "flex_flow": null,
            "grid_area": null,
            "grid_auto_columns": null,
            "grid_auto_flow": null,
            "grid_auto_rows": null,
            "grid_column": null,
            "grid_gap": null,
            "grid_row": null,
            "grid_template_areas": null,
            "grid_template_columns": null,
            "grid_template_rows": null,
            "height": null,
            "justify_content": null,
            "justify_items": null,
            "left": null,
            "margin": null,
            "max_height": null,
            "max_width": null,
            "min_height": null,
            "min_width": null,
            "object_fit": null,
            "object_position": null,
            "order": null,
            "overflow": null,
            "overflow_x": null,
            "overflow_y": null,
            "padding": null,
            "right": null,
            "top": null,
            "visibility": null,
            "width": null
          }
        },
        "fd7fd01c31414b1ca487627145dfe6a2": {
          "model_module": "@jupyter-widgets/controls",
          "model_name": "DescriptionStyleModel",
          "model_module_version": "1.5.0",
          "state": {
            "_model_module": "@jupyter-widgets/controls",
            "_model_module_version": "1.5.0",
            "_model_name": "DescriptionStyleModel",
            "_view_count": null,
            "_view_module": "@jupyter-widgets/base",
            "_view_module_version": "1.2.0",
            "_view_name": "StyleView",
            "description_width": ""
          }
        },
        "ddaa81737f8d474faee2187a08598f61": {
          "model_module": "@jupyter-widgets/base",
          "model_name": "LayoutModel",
          "model_module_version": "1.2.0",
          "state": {
            "_model_module": "@jupyter-widgets/base",
            "_model_module_version": "1.2.0",
            "_model_name": "LayoutModel",
            "_view_count": null,
            "_view_module": "@jupyter-widgets/base",
            "_view_module_version": "1.2.0",
            "_view_name": "LayoutView",
            "align_content": null,
            "align_items": null,
            "align_self": null,
            "border": null,
            "bottom": null,
            "display": null,
            "flex": null,
            "flex_flow": null,
            "grid_area": null,
            "grid_auto_columns": null,
            "grid_auto_flow": null,
            "grid_auto_rows": null,
            "grid_column": null,
            "grid_gap": null,
            "grid_row": null,
            "grid_template_areas": null,
            "grid_template_columns": null,
            "grid_template_rows": null,
            "height": null,
            "justify_content": null,
            "justify_items": null,
            "left": null,
            "margin": null,
            "max_height": null,
            "max_width": null,
            "min_height": null,
            "min_width": null,
            "object_fit": null,
            "object_position": null,
            "order": null,
            "overflow": null,
            "overflow_x": null,
            "overflow_y": null,
            "padding": null,
            "right": null,
            "top": null,
            "visibility": null,
            "width": null
          }
        },
        "3c22594bd9364a1aadf98ff9c8ff36c0": {
          "model_module": "@jupyter-widgets/controls",
          "model_name": "ProgressStyleModel",
          "model_module_version": "1.5.0",
          "state": {
            "_model_module": "@jupyter-widgets/controls",
            "_model_module_version": "1.5.0",
            "_model_name": "ProgressStyleModel",
            "_view_count": null,
            "_view_module": "@jupyter-widgets/base",
            "_view_module_version": "1.2.0",
            "_view_name": "StyleView",
            "bar_color": null,
            "description_width": ""
          }
        },
        "cbb6e7a9eabe47aea61fa2e6a019f230": {
          "model_module": "@jupyter-widgets/base",
          "model_name": "LayoutModel",
          "model_module_version": "1.2.0",
          "state": {
            "_model_module": "@jupyter-widgets/base",
            "_model_module_version": "1.2.0",
            "_model_name": "LayoutModel",
            "_view_count": null,
            "_view_module": "@jupyter-widgets/base",
            "_view_module_version": "1.2.0",
            "_view_name": "LayoutView",
            "align_content": null,
            "align_items": null,
            "align_self": null,
            "border": null,
            "bottom": null,
            "display": null,
            "flex": null,
            "flex_flow": null,
            "grid_area": null,
            "grid_auto_columns": null,
            "grid_auto_flow": null,
            "grid_auto_rows": null,
            "grid_column": null,
            "grid_gap": null,
            "grid_row": null,
            "grid_template_areas": null,
            "grid_template_columns": null,
            "grid_template_rows": null,
            "height": null,
            "justify_content": null,
            "justify_items": null,
            "left": null,
            "margin": null,
            "max_height": null,
            "max_width": null,
            "min_height": null,
            "min_width": null,
            "object_fit": null,
            "object_position": null,
            "order": null,
            "overflow": null,
            "overflow_x": null,
            "overflow_y": null,
            "padding": null,
            "right": null,
            "top": null,
            "visibility": null,
            "width": null
          }
        },
        "6778207080d04b2c82e4f892ef7e66d7": {
          "model_module": "@jupyter-widgets/controls",
          "model_name": "DescriptionStyleModel",
          "model_module_version": "1.5.0",
          "state": {
            "_model_module": "@jupyter-widgets/controls",
            "_model_module_version": "1.5.0",
            "_model_name": "DescriptionStyleModel",
            "_view_count": null,
            "_view_module": "@jupyter-widgets/base",
            "_view_module_version": "1.2.0",
            "_view_name": "StyleView",
            "description_width": ""
          }
        }
      }
    }
  },
  "cells": [
    {
      "cell_type": "markdown",
      "metadata": {
        "id": "view-in-github"
      },
      "source": [
        "<a href=\"https://colab.research.google.com/github/shanayghag/Sentiment-classification-using-XLNet/blob/master/Sentiment_Analysis_Series_part_1.ipynb\" target=\"_parent\"><img src=\"https://colab.research.google.com/assets/colab-badge.svg\" alt=\"Open In Colab\"/></a>"
      ]
    },
    {
      "cell_type": "code",
      "metadata": {
        "id": "txqNzM1xIPIR",
        "outputId": "6205dc11-7b0c-4dea-94d3-fcca4a467cd9",
        "colab": {
          "base_uri": "https://localhost:8080/"
        }
      },
      "source": [
        "from google.colab import drive\n",
        "drive.mount('/content/drive')"
      ],
      "execution_count": 2,
      "outputs": [
        {
          "output_type": "stream",
          "name": "stdout",
          "text": [
            "Drive already mounted at /content/drive; to attempt to forcibly remount, call drive.mount(\"/content/drive\", force_remount=True).\n"
          ]
        }
      ]
    },
    {
      "cell_type": "code",
      "metadata": {
        "id": "3m6sGbnGeXHk",
        "outputId": "ad198918-2a3c-41b0-ebc4-9158c472ba82",
        "colab": {
          "base_uri": "https://localhost:8080/"
        }
      },
      "source": [
        "!nvidia-smi"
      ],
      "execution_count": 3,
      "outputs": [
        {
          "output_type": "stream",
          "name": "stdout",
          "text": [
            "Sun Jan  5 15:58:53 2025       \n",
            "+---------------------------------------------------------------------------------------+\n",
            "| NVIDIA-SMI 535.104.05             Driver Version: 535.104.05   CUDA Version: 12.2     |\n",
            "|-----------------------------------------+----------------------+----------------------+\n",
            "| GPU  Name                 Persistence-M | Bus-Id        Disp.A | Volatile Uncorr. ECC |\n",
            "| Fan  Temp   Perf          Pwr:Usage/Cap |         Memory-Usage | GPU-Util  Compute M. |\n",
            "|                                         |                      |               MIG M. |\n",
            "|=========================================+======================+======================|\n",
            "|   0  Tesla T4                       Off | 00000000:00:04.0 Off |                    0 |\n",
            "| N/A   39C    P8               9W /  70W |      0MiB / 15360MiB |      0%      Default |\n",
            "|                                         |                      |                  N/A |\n",
            "+-----------------------------------------+----------------------+----------------------+\n",
            "                                                                                         \n",
            "+---------------------------------------------------------------------------------------+\n",
            "| Processes:                                                                            |\n",
            "|  GPU   GI   CI        PID   Type   Process name                            GPU Memory |\n",
            "|        ID   ID                                                             Usage      |\n",
            "|=======================================================================================|\n",
            "|  No running processes found                                                           |\n",
            "+---------------------------------------------------------------------------------------+\n"
          ]
        }
      ]
    },
    {
      "cell_type": "code",
      "metadata": {
        "id": "HqQKcukJAicL",
        "outputId": "24be1e31-c3b8-4d0c-d483-046cba30ad26",
        "colab": {
          "base_uri": "https://localhost:8080/"
        }
      },
      "source": [
        "!pip install transformers"
      ],
      "execution_count": 4,
      "outputs": [
        {
          "output_type": "stream",
          "name": "stdout",
          "text": [
            "Requirement already satisfied: transformers in /usr/local/lib/python3.10/dist-packages (4.47.1)\n",
            "Requirement already satisfied: filelock in /usr/local/lib/python3.10/dist-packages (from transformers) (3.16.1)\n",
            "Requirement already satisfied: huggingface-hub<1.0,>=0.24.0 in /usr/local/lib/python3.10/dist-packages (from transformers) (0.27.0)\n",
            "Requirement already satisfied: numpy>=1.17 in /usr/local/lib/python3.10/dist-packages (from transformers) (1.26.4)\n",
            "Requirement already satisfied: packaging>=20.0 in /usr/local/lib/python3.10/dist-packages (from transformers) (24.2)\n",
            "Requirement already satisfied: pyyaml>=5.1 in /usr/local/lib/python3.10/dist-packages (from transformers) (6.0.2)\n",
            "Requirement already satisfied: regex!=2019.12.17 in /usr/local/lib/python3.10/dist-packages (from transformers) (2024.11.6)\n",
            "Requirement already satisfied: requests in /usr/local/lib/python3.10/dist-packages (from transformers) (2.32.3)\n",
            "Requirement already satisfied: tokenizers<0.22,>=0.21 in /usr/local/lib/python3.10/dist-packages (from transformers) (0.21.0)\n",
            "Requirement already satisfied: safetensors>=0.4.1 in /usr/local/lib/python3.10/dist-packages (from transformers) (0.4.5)\n",
            "Requirement already satisfied: tqdm>=4.27 in /usr/local/lib/python3.10/dist-packages (from transformers) (4.67.1)\n",
            "Requirement already satisfied: fsspec>=2023.5.0 in /usr/local/lib/python3.10/dist-packages (from huggingface-hub<1.0,>=0.24.0->transformers) (2024.10.0)\n",
            "Requirement already satisfied: typing-extensions>=3.7.4.3 in /usr/local/lib/python3.10/dist-packages (from huggingface-hub<1.0,>=0.24.0->transformers) (4.12.2)\n",
            "Requirement already satisfied: charset-normalizer<4,>=2 in /usr/local/lib/python3.10/dist-packages (from requests->transformers) (3.4.0)\n",
            "Requirement already satisfied: idna<4,>=2.5 in /usr/local/lib/python3.10/dist-packages (from requests->transformers) (3.10)\n",
            "Requirement already satisfied: urllib3<3,>=1.21.1 in /usr/local/lib/python3.10/dist-packages (from requests->transformers) (2.2.3)\n",
            "Requirement already satisfied: certifi>=2017.4.17 in /usr/local/lib/python3.10/dist-packages (from requests->transformers) (2024.12.14)\n"
          ]
        }
      ]
    },
    {
      "cell_type": "code",
      "metadata": {
        "id": "U8FRjwBo15uT",
        "colab": {
          "base_uri": "https://localhost:8080/"
        },
        "outputId": "dffe3400-0081-49e0-ffae-1e1f19ff95ff"
      },
      "source": [
        "!pip install -q -U watermark"
      ],
      "execution_count": 5,
      "outputs": [
        {
          "output_type": "stream",
          "name": "stdout",
          "text": [
            "\u001b[?25l   \u001b[90m━━━━━━━━━━━━━━━━━━━━━━━━━━━━━━━━━━━━━━━━\u001b[0m \u001b[32m0.0/1.6 MB\u001b[0m \u001b[31m?\u001b[0m eta \u001b[36m-:--:--\u001b[0m\r\u001b[2K   \u001b[91m━━━━━━━━━━━━━━━━━━━━━━━━━━━━━\u001b[0m\u001b[90m╺\u001b[0m\u001b[90m━━━━━━━━━━\u001b[0m \u001b[32m1.2/1.6 MB\u001b[0m \u001b[31m37.2 MB/s\u001b[0m eta \u001b[36m0:00:01\u001b[0m\r\u001b[2K   \u001b[90m━━━━━━━━━━━━━━━━━━━━━━━━━━━━━━━━━━━━━━━━\u001b[0m \u001b[32m1.6/1.6 MB\u001b[0m \u001b[31m27.8 MB/s\u001b[0m eta \u001b[36m0:00:00\u001b[0m\n",
            "\u001b[?25h"
          ]
        }
      ]
    },
    {
      "cell_type": "code",
      "metadata": {
        "id": "3DNdmQhn2D43",
        "outputId": "f4b86d64-8f13-4e33-fd0c-550f0031d6e7",
        "colab": {
          "base_uri": "https://localhost:8080/"
        }
      },
      "source": [
        "%reload_ext watermark\n",
        "%watermark -v -p numpy,pandas,torch,transformers"
      ],
      "execution_count": 6,
      "outputs": [
        {
          "output_type": "stream",
          "name": "stdout",
          "text": [
            "Python implementation: CPython\n",
            "Python version       : 3.10.12\n",
            "IPython version      : 7.34.0\n",
            "\n",
            "numpy       : 1.26.4\n",
            "pandas      : 2.2.2\n",
            "torch       : 2.5.1+cu121\n",
            "transformers: 4.47.1\n",
            "\n"
          ]
        }
      ]
    },
    {
      "cell_type": "markdown",
      "metadata": {
        "id": "Mk0GnvUQIdxc"
      },
      "source": [
        "### Making the necessary imports"
      ]
    },
    {
      "cell_type": "code",
      "metadata": {
        "id": "dOpc8w_12D1f"
      },
      "source": [
        "import transformers\n",
        "from transformers import XLNetTokenizer, XLNetModel, AdamW, get_linear_schedule_with_warmup\n",
        "import torch\n",
        "\n",
        "import numpy as np\n",
        "import pandas as pd\n",
        "import seaborn as sns\n",
        "import matplotlib.pyplot as plt\n",
        "from matplotlib import rc\n",
        "from sklearn.model_selection import train_test_split\n",
        "from sklearn.metrics import confusion_matrix, classification_report, accuracy_score\n",
        "from collections import defaultdict\n",
        "from textwrap import wrap\n",
        "from pylab import rcParams\n",
        "\n",
        "from torch import nn, optim\n",
        "from keras.preprocessing.sequence import pad_sequences\n",
        "from torch.utils.data import TensorDataset,RandomSampler,SequentialSampler\n",
        "from torch.utils.data import Dataset, DataLoader\n",
        "import torch.nn.functional as F"
      ],
      "execution_count": 8,
      "outputs": []
    },
    {
      "cell_type": "code",
      "metadata": {
        "id": "qAICzZNo2Dyw",
        "outputId": "9a4cc6e6-33b9-4977-f66f-0ef56fa130e1",
        "colab": {
          "base_uri": "https://localhost:8080/"
        }
      },
      "source": [
        "%matplotlib inline\n",
        "%config InlineBackend.figure_format='retina'\n",
        "\n",
        "sns.set(style='whitegrid', palette='muted', font_scale=1.2)\n",
        "\n",
        "HAPPY_COLORS_PALETTE = [\"#01BEFE\", \"#FFDD00\", \"#FF7D00\", \"#FF006D\", \"#ADFF02\", \"#8F00FF\"]\n",
        "\n",
        "sns.set_palette(sns.color_palette(HAPPY_COLORS_PALETTE))\n",
        "\n",
        "rcParams['figure.figsize'] = 12, 8\n",
        "\n",
        "RANDOM_SEED = 42\n",
        "np.random.seed(RANDOM_SEED)\n",
        "torch.manual_seed(RANDOM_SEED)\n",
        "\n",
        "device = torch.device(\"cuda:0\" if torch.cuda.is_available() else \"cpu\")\n",
        "device"
      ],
      "execution_count": 9,
      "outputs": [
        {
          "output_type": "execute_result",
          "data": {
            "text/plain": [
              "device(type='cuda', index=0)"
            ]
          },
          "metadata": {},
          "execution_count": 9
        }
      ]
    },
    {
      "cell_type": "markdown",
      "metadata": {
        "id": "gC-WS1hYIxkr"
      },
      "source": [
        "### Data Preprocessing"
      ]
    },
    {
      "cell_type": "code",
      "metadata": {
        "id": "jJ83RaRG2Dv8",
        "outputId": "5c8bda4e-202a-45c9-b2b0-b489f6647124",
        "colab": {
          "base_uri": "https://localhost:8080/",
          "height": 206
        }
      },
      "source": [
        "df = pd.read_csv('/content/drive/My Drive/IMDB Dataset.csv')\n",
        "df.head()"
      ],
      "execution_count": 15,
      "outputs": [
        {
          "output_type": "execute_result",
          "data": {
            "text/plain": [
              "                                              review sentiment\n",
              "0  One of the other reviewers has mentioned that ...  positive\n",
              "1  A wonderful little production. <br /><br />The...  positive\n",
              "2  I thought this was a wonderful way to spend ti...  positive\n",
              "3  Basically there's a family where a little boy ...  negative\n",
              "4  Petter Mattei's \"Love in the Time of Money\" is...  positive"
            ],
            "text/html": [
              "\n",
              "  <div id=\"df-4c7cc215-f590-4855-955a-11a78d96cc34\" class=\"colab-df-container\">\n",
              "    <div>\n",
              "<style scoped>\n",
              "    .dataframe tbody tr th:only-of-type {\n",
              "        vertical-align: middle;\n",
              "    }\n",
              "\n",
              "    .dataframe tbody tr th {\n",
              "        vertical-align: top;\n",
              "    }\n",
              "\n",
              "    .dataframe thead th {\n",
              "        text-align: right;\n",
              "    }\n",
              "</style>\n",
              "<table border=\"1\" class=\"dataframe\">\n",
              "  <thead>\n",
              "    <tr style=\"text-align: right;\">\n",
              "      <th></th>\n",
              "      <th>review</th>\n",
              "      <th>sentiment</th>\n",
              "    </tr>\n",
              "  </thead>\n",
              "  <tbody>\n",
              "    <tr>\n",
              "      <th>0</th>\n",
              "      <td>One of the other reviewers has mentioned that ...</td>\n",
              "      <td>positive</td>\n",
              "    </tr>\n",
              "    <tr>\n",
              "      <th>1</th>\n",
              "      <td>A wonderful little production. &lt;br /&gt;&lt;br /&gt;The...</td>\n",
              "      <td>positive</td>\n",
              "    </tr>\n",
              "    <tr>\n",
              "      <th>2</th>\n",
              "      <td>I thought this was a wonderful way to spend ti...</td>\n",
              "      <td>positive</td>\n",
              "    </tr>\n",
              "    <tr>\n",
              "      <th>3</th>\n",
              "      <td>Basically there's a family where a little boy ...</td>\n",
              "      <td>negative</td>\n",
              "    </tr>\n",
              "    <tr>\n",
              "      <th>4</th>\n",
              "      <td>Petter Mattei's \"Love in the Time of Money\" is...</td>\n",
              "      <td>positive</td>\n",
              "    </tr>\n",
              "  </tbody>\n",
              "</table>\n",
              "</div>\n",
              "    <div class=\"colab-df-buttons\">\n",
              "\n",
              "  <div class=\"colab-df-container\">\n",
              "    <button class=\"colab-df-convert\" onclick=\"convertToInteractive('df-4c7cc215-f590-4855-955a-11a78d96cc34')\"\n",
              "            title=\"Convert this dataframe to an interactive table.\"\n",
              "            style=\"display:none;\">\n",
              "\n",
              "  <svg xmlns=\"http://www.w3.org/2000/svg\" height=\"24px\" viewBox=\"0 -960 960 960\">\n",
              "    <path d=\"M120-120v-720h720v720H120Zm60-500h600v-160H180v160Zm220 220h160v-160H400v160Zm0 220h160v-160H400v160ZM180-400h160v-160H180v160Zm440 0h160v-160H620v160ZM180-180h160v-160H180v160Zm440 0h160v-160H620v160Z\"/>\n",
              "  </svg>\n",
              "    </button>\n",
              "\n",
              "  <style>\n",
              "    .colab-df-container {\n",
              "      display:flex;\n",
              "      gap: 12px;\n",
              "    }\n",
              "\n",
              "    .colab-df-convert {\n",
              "      background-color: #E8F0FE;\n",
              "      border: none;\n",
              "      border-radius: 50%;\n",
              "      cursor: pointer;\n",
              "      display: none;\n",
              "      fill: #1967D2;\n",
              "      height: 32px;\n",
              "      padding: 0 0 0 0;\n",
              "      width: 32px;\n",
              "    }\n",
              "\n",
              "    .colab-df-convert:hover {\n",
              "      background-color: #E2EBFA;\n",
              "      box-shadow: 0px 1px 2px rgba(60, 64, 67, 0.3), 0px 1px 3px 1px rgba(60, 64, 67, 0.15);\n",
              "      fill: #174EA6;\n",
              "    }\n",
              "\n",
              "    .colab-df-buttons div {\n",
              "      margin-bottom: 4px;\n",
              "    }\n",
              "\n",
              "    [theme=dark] .colab-df-convert {\n",
              "      background-color: #3B4455;\n",
              "      fill: #D2E3FC;\n",
              "    }\n",
              "\n",
              "    [theme=dark] .colab-df-convert:hover {\n",
              "      background-color: #434B5C;\n",
              "      box-shadow: 0px 1px 3px 1px rgba(0, 0, 0, 0.15);\n",
              "      filter: drop-shadow(0px 1px 2px rgba(0, 0, 0, 0.3));\n",
              "      fill: #FFFFFF;\n",
              "    }\n",
              "  </style>\n",
              "\n",
              "    <script>\n",
              "      const buttonEl =\n",
              "        document.querySelector('#df-4c7cc215-f590-4855-955a-11a78d96cc34 button.colab-df-convert');\n",
              "      buttonEl.style.display =\n",
              "        google.colab.kernel.accessAllowed ? 'block' : 'none';\n",
              "\n",
              "      async function convertToInteractive(key) {\n",
              "        const element = document.querySelector('#df-4c7cc215-f590-4855-955a-11a78d96cc34');\n",
              "        const dataTable =\n",
              "          await google.colab.kernel.invokeFunction('convertToInteractive',\n",
              "                                                    [key], {});\n",
              "        if (!dataTable) return;\n",
              "\n",
              "        const docLinkHtml = 'Like what you see? Visit the ' +\n",
              "          '<a target=\"_blank\" href=https://colab.research.google.com/notebooks/data_table.ipynb>data table notebook</a>'\n",
              "          + ' to learn more about interactive tables.';\n",
              "        element.innerHTML = '';\n",
              "        dataTable['output_type'] = 'display_data';\n",
              "        await google.colab.output.renderOutput(dataTable, element);\n",
              "        const docLink = document.createElement('div');\n",
              "        docLink.innerHTML = docLinkHtml;\n",
              "        element.appendChild(docLink);\n",
              "      }\n",
              "    </script>\n",
              "  </div>\n",
              "\n",
              "\n",
              "<div id=\"df-9ac04c95-52e8-4fa3-9006-da9c74d9fbb0\">\n",
              "  <button class=\"colab-df-quickchart\" onclick=\"quickchart('df-9ac04c95-52e8-4fa3-9006-da9c74d9fbb0')\"\n",
              "            title=\"Suggest charts\"\n",
              "            style=\"display:none;\">\n",
              "\n",
              "<svg xmlns=\"http://www.w3.org/2000/svg\" height=\"24px\"viewBox=\"0 0 24 24\"\n",
              "     width=\"24px\">\n",
              "    <g>\n",
              "        <path d=\"M19 3H5c-1.1 0-2 .9-2 2v14c0 1.1.9 2 2 2h14c1.1 0 2-.9 2-2V5c0-1.1-.9-2-2-2zM9 17H7v-7h2v7zm4 0h-2V7h2v10zm4 0h-2v-4h2v4z\"/>\n",
              "    </g>\n",
              "</svg>\n",
              "  </button>\n",
              "\n",
              "<style>\n",
              "  .colab-df-quickchart {\n",
              "      --bg-color: #E8F0FE;\n",
              "      --fill-color: #1967D2;\n",
              "      --hover-bg-color: #E2EBFA;\n",
              "      --hover-fill-color: #174EA6;\n",
              "      --disabled-fill-color: #AAA;\n",
              "      --disabled-bg-color: #DDD;\n",
              "  }\n",
              "\n",
              "  [theme=dark] .colab-df-quickchart {\n",
              "      --bg-color: #3B4455;\n",
              "      --fill-color: #D2E3FC;\n",
              "      --hover-bg-color: #434B5C;\n",
              "      --hover-fill-color: #FFFFFF;\n",
              "      --disabled-bg-color: #3B4455;\n",
              "      --disabled-fill-color: #666;\n",
              "  }\n",
              "\n",
              "  .colab-df-quickchart {\n",
              "    background-color: var(--bg-color);\n",
              "    border: none;\n",
              "    border-radius: 50%;\n",
              "    cursor: pointer;\n",
              "    display: none;\n",
              "    fill: var(--fill-color);\n",
              "    height: 32px;\n",
              "    padding: 0;\n",
              "    width: 32px;\n",
              "  }\n",
              "\n",
              "  .colab-df-quickchart:hover {\n",
              "    background-color: var(--hover-bg-color);\n",
              "    box-shadow: 0 1px 2px rgba(60, 64, 67, 0.3), 0 1px 3px 1px rgba(60, 64, 67, 0.15);\n",
              "    fill: var(--button-hover-fill-color);\n",
              "  }\n",
              "\n",
              "  .colab-df-quickchart-complete:disabled,\n",
              "  .colab-df-quickchart-complete:disabled:hover {\n",
              "    background-color: var(--disabled-bg-color);\n",
              "    fill: var(--disabled-fill-color);\n",
              "    box-shadow: none;\n",
              "  }\n",
              "\n",
              "  .colab-df-spinner {\n",
              "    border: 2px solid var(--fill-color);\n",
              "    border-color: transparent;\n",
              "    border-bottom-color: var(--fill-color);\n",
              "    animation:\n",
              "      spin 1s steps(1) infinite;\n",
              "  }\n",
              "\n",
              "  @keyframes spin {\n",
              "    0% {\n",
              "      border-color: transparent;\n",
              "      border-bottom-color: var(--fill-color);\n",
              "      border-left-color: var(--fill-color);\n",
              "    }\n",
              "    20% {\n",
              "      border-color: transparent;\n",
              "      border-left-color: var(--fill-color);\n",
              "      border-top-color: var(--fill-color);\n",
              "    }\n",
              "    30% {\n",
              "      border-color: transparent;\n",
              "      border-left-color: var(--fill-color);\n",
              "      border-top-color: var(--fill-color);\n",
              "      border-right-color: var(--fill-color);\n",
              "    }\n",
              "    40% {\n",
              "      border-color: transparent;\n",
              "      border-right-color: var(--fill-color);\n",
              "      border-top-color: var(--fill-color);\n",
              "    }\n",
              "    60% {\n",
              "      border-color: transparent;\n",
              "      border-right-color: var(--fill-color);\n",
              "    }\n",
              "    80% {\n",
              "      border-color: transparent;\n",
              "      border-right-color: var(--fill-color);\n",
              "      border-bottom-color: var(--fill-color);\n",
              "    }\n",
              "    90% {\n",
              "      border-color: transparent;\n",
              "      border-bottom-color: var(--fill-color);\n",
              "    }\n",
              "  }\n",
              "</style>\n",
              "\n",
              "  <script>\n",
              "    async function quickchart(key) {\n",
              "      const quickchartButtonEl =\n",
              "        document.querySelector('#' + key + ' button');\n",
              "      quickchartButtonEl.disabled = true;  // To prevent multiple clicks.\n",
              "      quickchartButtonEl.classList.add('colab-df-spinner');\n",
              "      try {\n",
              "        const charts = await google.colab.kernel.invokeFunction(\n",
              "            'suggestCharts', [key], {});\n",
              "      } catch (error) {\n",
              "        console.error('Error during call to suggestCharts:', error);\n",
              "      }\n",
              "      quickchartButtonEl.classList.remove('colab-df-spinner');\n",
              "      quickchartButtonEl.classList.add('colab-df-quickchart-complete');\n",
              "    }\n",
              "    (() => {\n",
              "      let quickchartButtonEl =\n",
              "        document.querySelector('#df-9ac04c95-52e8-4fa3-9006-da9c74d9fbb0 button');\n",
              "      quickchartButtonEl.style.display =\n",
              "        google.colab.kernel.accessAllowed ? 'block' : 'none';\n",
              "    })();\n",
              "  </script>\n",
              "</div>\n",
              "\n",
              "    </div>\n",
              "  </div>\n"
            ],
            "application/vnd.google.colaboratory.intrinsic+json": {
              "type": "dataframe",
              "variable_name": "df",
              "summary": "{\n  \"name\": \"df\",\n  \"rows\": 50000,\n  \"fields\": [\n    {\n      \"column\": \"review\",\n      \"properties\": {\n        \"dtype\": \"string\",\n        \"num_unique_values\": 49582,\n        \"samples\": [\n          \"\\\"Soul Plane\\\" is a horrible attempt at comedy that only should appeal people with thick skulls, bloodshot eyes and furry pawns. <br /><br />The plot is not only incoherent but also non-existent, acting is mostly sub sub-par with a gang of highly moronic and dreadful characters thrown in for bad measure, jokes are often spotted miles ahead and almost never even a bit amusing. This movie lacks any structure and is full of racial stereotypes that must have seemed old even in the fifties, the only thing it really has going for it is some pretty ladies, but really, if you want that you can rent something from the \\\"Adult\\\" section. OK?<br /><br />I can hardly see anything here to recommend since you'll probably have a lot a better and productive time chasing rats with a sledgehammer or inventing waterproof teabags or whatever.<br /><br />2/10\",\n          \"Guest from the Future tells a fascinating story of time travel, friendship, battle of good and evil -- all with a small budget, child actors, and few special effects. Something for Spielberg and Lucas to learn from. ;) A sixth-grader Kolya \\\"Nick\\\" Gerasimov finds a time machine in the basement of a decrepit building and travels 100 years into the future. He discovers a near-perfect, utopian society where robots play guitars and write poetry, everyone is kind to each other and people enjoy everything technology has to offer. Alice is the daughter of a prominent scientist who invented a device called Mielophone that allows to read minds of humans and animals. The device can be put to both good and bad use, depending on whose hands it falls into. When two evil space pirates from Saturn who want to rule the universe attempt to steal Mielophone, it falls into the hands of 20th century school boy Nick. With the pirates hot on his tracks, he travels back to his time, followed by the pirates, and Alice. Chaos, confusion and funny situations follow as the luckless pirates try to blend in with the earthlings. Alice enrolls in the same school Nick goes to and demonstrates superhuman abilities in PE class. The catch is, Alice doesn't know what Nick looks like, while the pirates do. Also, the pirates are able to change their appearance and turn literally into anyone. (Hmm, I wonder if this is where James Cameron got the idea for Terminator...) Who gets to Nick -- and Mielophone -- first? Excellent plot, non-stop adventures, and great soundtrack. I wish Hollywood made kid movies like this one...\",\n          \"\\\"National Treasure\\\" (2004) is a thoroughly misguided hodge-podge of plot entanglements that borrow from nearly every cloak and dagger government conspiracy clich\\u00e9 that has ever been written. The film stars Nicholas Cage as Benjamin Franklin Gates (how precious is that, I ask you?); a seemingly normal fellow who, for no other reason than being of a lineage of like-minded misguided fortune hunters, decides to steal a 'national treasure' that has been hidden by the United States founding fathers. After a bit of subtext and background that plays laughably (unintentionally) like Indiana Jones meets The Patriot, the film degenerates into one misguided whimsy after another \\u0096 attempting to create a 'Stanley Goodspeed' regurgitation of Nicholas Cage and launch the whole convoluted mess forward with a series of high octane, but disconnected misadventures.<br /><br />The relevancy and logic to having George Washington and his motley crew of patriots burying a king's ransom someplace on native soil, and then, going through the meticulous plan of leaving clues scattered throughout U.S. currency art work, is something that director Jon Turteltaub never quite gets around to explaining. Couldn't Washington found better usage for such wealth during the start up of the country? Hence, we are left with a mystery built on top of an enigma that is already on shaky ground by the time Ben appoints himself the new custodian of this untold wealth. Ben's intentions are noble \\u0096 if confusing. He's set on protecting the treasure. For who and when?\\u0085your guess is as good as mine.<br /><br />But there are a few problems with Ben's crusade. First up, his friend, Ian Holmes (Sean Bean) decides that he can't wait for Ben to make up his mind about stealing the Declaration of Independence from the National Archives (oh, yeah \\u0096 brilliant idea!). Presumably, the back of that famous document holds the secret answer to the ultimate fortune. So Ian tries to kill Ben. The assassination attempt is, of course, unsuccessful, if overly melodramatic. It also affords Ben the opportunity to pick up, and pick on, the very sultry curator of the archives, Abigail Chase (Diane Kruger). She thinks Ben is clearly a nut \\u0096 at least at the beginning. But true to action/romance form, Abby's resolve melts quicker than you can say, \\\"is that the Hope Diamond?\\\" The film moves into full X-File-ish mode, as the FBI, mistakenly believing that Ben is behind the theft, retaliate in various benign ways that lead to a multi-layering of action sequences reminiscent of Mission Impossible meets The Fugitive. Honestly, don't those guys ever get 'intelligence' information that is correct? In the final analysis, \\\"National Treasure\\\" isn't great film making, so much as it's a patchwork rehash of tired old bits from other movies, woven together from scraps, the likes of which would make IL' Betsy Ross blush.<br /><br />The Buena Vista DVD delivers a far more generous treatment than this film is deserving of. The anamorphic widescreen picture exhibits a very smooth and finely detailed image with very rich colors, natural flesh tones, solid blacks and clean whites. The stylized image is also free of blemishes and digital enhancements. The audio is 5.1 and delivers a nice sonic boom to your side and rear speakers with intensity and realism. Extras include a host of promotional junket material that is rather deep and over the top in its explanation of how and why this film was made. If only, as an audience, we had had more clarification as to why Ben and co. were chasing after an illusive treasure, this might have been one good flick. Extras conclude with the theatrical trailer, audio commentary and deleted scenes. Not for the faint-hearted \\u0096 just the thick-headed.\"\n        ],\n        \"semantic_type\": \"\",\n        \"description\": \"\"\n      }\n    },\n    {\n      \"column\": \"sentiment\",\n      \"properties\": {\n        \"dtype\": \"category\",\n        \"num_unique_values\": 2,\n        \"samples\": [\n          \"negative\",\n          \"positive\"\n        ],\n        \"semantic_type\": \"\",\n        \"description\": \"\"\n      }\n    }\n  ]\n}"
            }
          },
          "metadata": {},
          "execution_count": 15
        }
      ]
    },
    {
      "cell_type": "code",
      "metadata": {
        "id": "4J5-ddIc2DtI",
        "outputId": "1c88f880-2120-409b-a0b3-756d339f7a4d",
        "colab": {
          "base_uri": "https://localhost:8080/",
          "height": 677
        }
      },
      "source": [
        "from sklearn.utils import shuffle\n",
        "df = shuffle(df)\n",
        "df.head(20)"
      ],
      "execution_count": 16,
      "outputs": [
        {
          "output_type": "execute_result",
          "data": {
            "text/plain": [
              "                                                  review sentiment\n",
              "33553  I really liked this Summerslam due to the look...  positive\n",
              "9427   Not many television shows appeal to quite as m...  positive\n",
              "199    The film quickly gets to a major chase scene w...  negative\n",
              "12447  Jane Austen would definitely approve of this o...  positive\n",
              "39489  Expectations were somewhat high for me when I ...  negative\n",
              "42724  I've watched this movie on a fairly regular ba...  positive\n",
              "10822  For once a story of hope highlighted over the ...  positive\n",
              "49498  Okay, I didn't get the Purgatory thing the fir...  positive\n",
              "4144   I was very disappointed with this series. It h...  negative\n",
              "36958  The first 30 minutes of Tinseltown had my fing...  negative\n",
              "43106  jeez, this was immensely boring. the leading m...  negative\n",
              "38695  Great just great! The West Coast got \"Dirty\" H...  positive\n",
              "6188   It's made in 2007 and the CG is bad for a movi...  negative\n",
              "1414   This movie stinks majorly. The only reason I g...  negative\n",
              "18471  We can start with the wooden acting but this f...  negative\n",
              "29282  This movie starts off somewhat slowly and gets...  positive\n",
              "15177  This is a slightly uneven entry with one stand...  positive\n",
              "34304  I was first introduced to John Waters films by...  positive\n",
              "12609  This movie has very good acting by virtually a...  positive\n",
              "12144  I can't help but notice the negative reviews t...  positive"
            ],
            "text/html": [
              "\n",
              "  <div id=\"df-a4462dff-9222-4b0f-859d-028eae32ec13\" class=\"colab-df-container\">\n",
              "    <div>\n",
              "<style scoped>\n",
              "    .dataframe tbody tr th:only-of-type {\n",
              "        vertical-align: middle;\n",
              "    }\n",
              "\n",
              "    .dataframe tbody tr th {\n",
              "        vertical-align: top;\n",
              "    }\n",
              "\n",
              "    .dataframe thead th {\n",
              "        text-align: right;\n",
              "    }\n",
              "</style>\n",
              "<table border=\"1\" class=\"dataframe\">\n",
              "  <thead>\n",
              "    <tr style=\"text-align: right;\">\n",
              "      <th></th>\n",
              "      <th>review</th>\n",
              "      <th>sentiment</th>\n",
              "    </tr>\n",
              "  </thead>\n",
              "  <tbody>\n",
              "    <tr>\n",
              "      <th>33553</th>\n",
              "      <td>I really liked this Summerslam due to the look...</td>\n",
              "      <td>positive</td>\n",
              "    </tr>\n",
              "    <tr>\n",
              "      <th>9427</th>\n",
              "      <td>Not many television shows appeal to quite as m...</td>\n",
              "      <td>positive</td>\n",
              "    </tr>\n",
              "    <tr>\n",
              "      <th>199</th>\n",
              "      <td>The film quickly gets to a major chase scene w...</td>\n",
              "      <td>negative</td>\n",
              "    </tr>\n",
              "    <tr>\n",
              "      <th>12447</th>\n",
              "      <td>Jane Austen would definitely approve of this o...</td>\n",
              "      <td>positive</td>\n",
              "    </tr>\n",
              "    <tr>\n",
              "      <th>39489</th>\n",
              "      <td>Expectations were somewhat high for me when I ...</td>\n",
              "      <td>negative</td>\n",
              "    </tr>\n",
              "    <tr>\n",
              "      <th>42724</th>\n",
              "      <td>I've watched this movie on a fairly regular ba...</td>\n",
              "      <td>positive</td>\n",
              "    </tr>\n",
              "    <tr>\n",
              "      <th>10822</th>\n",
              "      <td>For once a story of hope highlighted over the ...</td>\n",
              "      <td>positive</td>\n",
              "    </tr>\n",
              "    <tr>\n",
              "      <th>49498</th>\n",
              "      <td>Okay, I didn't get the Purgatory thing the fir...</td>\n",
              "      <td>positive</td>\n",
              "    </tr>\n",
              "    <tr>\n",
              "      <th>4144</th>\n",
              "      <td>I was very disappointed with this series. It h...</td>\n",
              "      <td>negative</td>\n",
              "    </tr>\n",
              "    <tr>\n",
              "      <th>36958</th>\n",
              "      <td>The first 30 minutes of Tinseltown had my fing...</td>\n",
              "      <td>negative</td>\n",
              "    </tr>\n",
              "    <tr>\n",
              "      <th>43106</th>\n",
              "      <td>jeez, this was immensely boring. the leading m...</td>\n",
              "      <td>negative</td>\n",
              "    </tr>\n",
              "    <tr>\n",
              "      <th>38695</th>\n",
              "      <td>Great just great! The West Coast got \"Dirty\" H...</td>\n",
              "      <td>positive</td>\n",
              "    </tr>\n",
              "    <tr>\n",
              "      <th>6188</th>\n",
              "      <td>It's made in 2007 and the CG is bad for a movi...</td>\n",
              "      <td>negative</td>\n",
              "    </tr>\n",
              "    <tr>\n",
              "      <th>1414</th>\n",
              "      <td>This movie stinks majorly. The only reason I g...</td>\n",
              "      <td>negative</td>\n",
              "    </tr>\n",
              "    <tr>\n",
              "      <th>18471</th>\n",
              "      <td>We can start with the wooden acting but this f...</td>\n",
              "      <td>negative</td>\n",
              "    </tr>\n",
              "    <tr>\n",
              "      <th>29282</th>\n",
              "      <td>This movie starts off somewhat slowly and gets...</td>\n",
              "      <td>positive</td>\n",
              "    </tr>\n",
              "    <tr>\n",
              "      <th>15177</th>\n",
              "      <td>This is a slightly uneven entry with one stand...</td>\n",
              "      <td>positive</td>\n",
              "    </tr>\n",
              "    <tr>\n",
              "      <th>34304</th>\n",
              "      <td>I was first introduced to John Waters films by...</td>\n",
              "      <td>positive</td>\n",
              "    </tr>\n",
              "    <tr>\n",
              "      <th>12609</th>\n",
              "      <td>This movie has very good acting by virtually a...</td>\n",
              "      <td>positive</td>\n",
              "    </tr>\n",
              "    <tr>\n",
              "      <th>12144</th>\n",
              "      <td>I can't help but notice the negative reviews t...</td>\n",
              "      <td>positive</td>\n",
              "    </tr>\n",
              "  </tbody>\n",
              "</table>\n",
              "</div>\n",
              "    <div class=\"colab-df-buttons\">\n",
              "\n",
              "  <div class=\"colab-df-container\">\n",
              "    <button class=\"colab-df-convert\" onclick=\"convertToInteractive('df-a4462dff-9222-4b0f-859d-028eae32ec13')\"\n",
              "            title=\"Convert this dataframe to an interactive table.\"\n",
              "            style=\"display:none;\">\n",
              "\n",
              "  <svg xmlns=\"http://www.w3.org/2000/svg\" height=\"24px\" viewBox=\"0 -960 960 960\">\n",
              "    <path d=\"M120-120v-720h720v720H120Zm60-500h600v-160H180v160Zm220 220h160v-160H400v160Zm0 220h160v-160H400v160ZM180-400h160v-160H180v160Zm440 0h160v-160H620v160ZM180-180h160v-160H180v160Zm440 0h160v-160H620v160Z\"/>\n",
              "  </svg>\n",
              "    </button>\n",
              "\n",
              "  <style>\n",
              "    .colab-df-container {\n",
              "      display:flex;\n",
              "      gap: 12px;\n",
              "    }\n",
              "\n",
              "    .colab-df-convert {\n",
              "      background-color: #E8F0FE;\n",
              "      border: none;\n",
              "      border-radius: 50%;\n",
              "      cursor: pointer;\n",
              "      display: none;\n",
              "      fill: #1967D2;\n",
              "      height: 32px;\n",
              "      padding: 0 0 0 0;\n",
              "      width: 32px;\n",
              "    }\n",
              "\n",
              "    .colab-df-convert:hover {\n",
              "      background-color: #E2EBFA;\n",
              "      box-shadow: 0px 1px 2px rgba(60, 64, 67, 0.3), 0px 1px 3px 1px rgba(60, 64, 67, 0.15);\n",
              "      fill: #174EA6;\n",
              "    }\n",
              "\n",
              "    .colab-df-buttons div {\n",
              "      margin-bottom: 4px;\n",
              "    }\n",
              "\n",
              "    [theme=dark] .colab-df-convert {\n",
              "      background-color: #3B4455;\n",
              "      fill: #D2E3FC;\n",
              "    }\n",
              "\n",
              "    [theme=dark] .colab-df-convert:hover {\n",
              "      background-color: #434B5C;\n",
              "      box-shadow: 0px 1px 3px 1px rgba(0, 0, 0, 0.15);\n",
              "      filter: drop-shadow(0px 1px 2px rgba(0, 0, 0, 0.3));\n",
              "      fill: #FFFFFF;\n",
              "    }\n",
              "  </style>\n",
              "\n",
              "    <script>\n",
              "      const buttonEl =\n",
              "        document.querySelector('#df-a4462dff-9222-4b0f-859d-028eae32ec13 button.colab-df-convert');\n",
              "      buttonEl.style.display =\n",
              "        google.colab.kernel.accessAllowed ? 'block' : 'none';\n",
              "\n",
              "      async function convertToInteractive(key) {\n",
              "        const element = document.querySelector('#df-a4462dff-9222-4b0f-859d-028eae32ec13');\n",
              "        const dataTable =\n",
              "          await google.colab.kernel.invokeFunction('convertToInteractive',\n",
              "                                                    [key], {});\n",
              "        if (!dataTable) return;\n",
              "\n",
              "        const docLinkHtml = 'Like what you see? Visit the ' +\n",
              "          '<a target=\"_blank\" href=https://colab.research.google.com/notebooks/data_table.ipynb>data table notebook</a>'\n",
              "          + ' to learn more about interactive tables.';\n",
              "        element.innerHTML = '';\n",
              "        dataTable['output_type'] = 'display_data';\n",
              "        await google.colab.output.renderOutput(dataTable, element);\n",
              "        const docLink = document.createElement('div');\n",
              "        docLink.innerHTML = docLinkHtml;\n",
              "        element.appendChild(docLink);\n",
              "      }\n",
              "    </script>\n",
              "  </div>\n",
              "\n",
              "\n",
              "<div id=\"df-ada75c5a-5a96-4a9b-85a7-ba9e92ac8894\">\n",
              "  <button class=\"colab-df-quickchart\" onclick=\"quickchart('df-ada75c5a-5a96-4a9b-85a7-ba9e92ac8894')\"\n",
              "            title=\"Suggest charts\"\n",
              "            style=\"display:none;\">\n",
              "\n",
              "<svg xmlns=\"http://www.w3.org/2000/svg\" height=\"24px\"viewBox=\"0 0 24 24\"\n",
              "     width=\"24px\">\n",
              "    <g>\n",
              "        <path d=\"M19 3H5c-1.1 0-2 .9-2 2v14c0 1.1.9 2 2 2h14c1.1 0 2-.9 2-2V5c0-1.1-.9-2-2-2zM9 17H7v-7h2v7zm4 0h-2V7h2v10zm4 0h-2v-4h2v4z\"/>\n",
              "    </g>\n",
              "</svg>\n",
              "  </button>\n",
              "\n",
              "<style>\n",
              "  .colab-df-quickchart {\n",
              "      --bg-color: #E8F0FE;\n",
              "      --fill-color: #1967D2;\n",
              "      --hover-bg-color: #E2EBFA;\n",
              "      --hover-fill-color: #174EA6;\n",
              "      --disabled-fill-color: #AAA;\n",
              "      --disabled-bg-color: #DDD;\n",
              "  }\n",
              "\n",
              "  [theme=dark] .colab-df-quickchart {\n",
              "      --bg-color: #3B4455;\n",
              "      --fill-color: #D2E3FC;\n",
              "      --hover-bg-color: #434B5C;\n",
              "      --hover-fill-color: #FFFFFF;\n",
              "      --disabled-bg-color: #3B4455;\n",
              "      --disabled-fill-color: #666;\n",
              "  }\n",
              "\n",
              "  .colab-df-quickchart {\n",
              "    background-color: var(--bg-color);\n",
              "    border: none;\n",
              "    border-radius: 50%;\n",
              "    cursor: pointer;\n",
              "    display: none;\n",
              "    fill: var(--fill-color);\n",
              "    height: 32px;\n",
              "    padding: 0;\n",
              "    width: 32px;\n",
              "  }\n",
              "\n",
              "  .colab-df-quickchart:hover {\n",
              "    background-color: var(--hover-bg-color);\n",
              "    box-shadow: 0 1px 2px rgba(60, 64, 67, 0.3), 0 1px 3px 1px rgba(60, 64, 67, 0.15);\n",
              "    fill: var(--button-hover-fill-color);\n",
              "  }\n",
              "\n",
              "  .colab-df-quickchart-complete:disabled,\n",
              "  .colab-df-quickchart-complete:disabled:hover {\n",
              "    background-color: var(--disabled-bg-color);\n",
              "    fill: var(--disabled-fill-color);\n",
              "    box-shadow: none;\n",
              "  }\n",
              "\n",
              "  .colab-df-spinner {\n",
              "    border: 2px solid var(--fill-color);\n",
              "    border-color: transparent;\n",
              "    border-bottom-color: var(--fill-color);\n",
              "    animation:\n",
              "      spin 1s steps(1) infinite;\n",
              "  }\n",
              "\n",
              "  @keyframes spin {\n",
              "    0% {\n",
              "      border-color: transparent;\n",
              "      border-bottom-color: var(--fill-color);\n",
              "      border-left-color: var(--fill-color);\n",
              "    }\n",
              "    20% {\n",
              "      border-color: transparent;\n",
              "      border-left-color: var(--fill-color);\n",
              "      border-top-color: var(--fill-color);\n",
              "    }\n",
              "    30% {\n",
              "      border-color: transparent;\n",
              "      border-left-color: var(--fill-color);\n",
              "      border-top-color: var(--fill-color);\n",
              "      border-right-color: var(--fill-color);\n",
              "    }\n",
              "    40% {\n",
              "      border-color: transparent;\n",
              "      border-right-color: var(--fill-color);\n",
              "      border-top-color: var(--fill-color);\n",
              "    }\n",
              "    60% {\n",
              "      border-color: transparent;\n",
              "      border-right-color: var(--fill-color);\n",
              "    }\n",
              "    80% {\n",
              "      border-color: transparent;\n",
              "      border-right-color: var(--fill-color);\n",
              "      border-bottom-color: var(--fill-color);\n",
              "    }\n",
              "    90% {\n",
              "      border-color: transparent;\n",
              "      border-bottom-color: var(--fill-color);\n",
              "    }\n",
              "  }\n",
              "</style>\n",
              "\n",
              "  <script>\n",
              "    async function quickchart(key) {\n",
              "      const quickchartButtonEl =\n",
              "        document.querySelector('#' + key + ' button');\n",
              "      quickchartButtonEl.disabled = true;  // To prevent multiple clicks.\n",
              "      quickchartButtonEl.classList.add('colab-df-spinner');\n",
              "      try {\n",
              "        const charts = await google.colab.kernel.invokeFunction(\n",
              "            'suggestCharts', [key], {});\n",
              "      } catch (error) {\n",
              "        console.error('Error during call to suggestCharts:', error);\n",
              "      }\n",
              "      quickchartButtonEl.classList.remove('colab-df-spinner');\n",
              "      quickchartButtonEl.classList.add('colab-df-quickchart-complete');\n",
              "    }\n",
              "    (() => {\n",
              "      let quickchartButtonEl =\n",
              "        document.querySelector('#df-ada75c5a-5a96-4a9b-85a7-ba9e92ac8894 button');\n",
              "      quickchartButtonEl.style.display =\n",
              "        google.colab.kernel.accessAllowed ? 'block' : 'none';\n",
              "    })();\n",
              "  </script>\n",
              "</div>\n",
              "\n",
              "    </div>\n",
              "  </div>\n"
            ],
            "application/vnd.google.colaboratory.intrinsic+json": {
              "type": "dataframe",
              "variable_name": "df",
              "summary": "{\n  \"name\": \"df\",\n  \"rows\": 50000,\n  \"fields\": [\n    {\n      \"column\": \"review\",\n      \"properties\": {\n        \"dtype\": \"string\",\n        \"num_unique_values\": 49582,\n        \"samples\": [\n          \"When 'My Deja Vu, My Deja Vu' aired last season, I was pleased. Scrubs, I thought, is doing something clever and unique in regards to the clip-show concept. Instead of replaying footage, they're replaying jokes in a self-aware manner, and I really enjoyed it.<br /><br />I found it really unfortunate that I was wrong. One season later, they succumbed to that which almost all sitcoms inevitably do, the clip show...and it looked like it was put together by the work-experience kid. Dr Cox's shaved head shows just how lazy the editors were in putting it together, as it doesn't appear again until 'My Long Goodbye' some 4 episodes later. I can't imagine that a wig is too much effort when it comes to maintaining the continuity of what was once a well-constructed sitcom. Who knows why it was slotted there, it just seemed lazy and out of place, reminding me (largely) of episodes that have aired within the past year.<br /><br />Three second clips jammed together with background music is a DVD extra for a (very) rainy day, not an episode of prime-time television.\",\n          \"David Lean's worst film. Even 'In Which We Serve' was'nt as bad as this. Usually a film with a really good reputation like this one, has at least some redeeming qualities, which makes one understand why it might be considered a classic. But after watching this I just could not get why this piece of crap was liked so much even back in 1945! I disliked the acting, stiff upper lip British mannerisms, story, script (which may be quite witty at times but totally unfunny) and soundtrack. The elvira character is meant to be alluring and attractive, but was in actual fact ugly and had a weird and annoying voice. Just another film that has convinced me not to trust a films reputation. Another very overrated 'british classic'.\",\n          \"I understand that the budget was low on this film, but come on this is really terrible film-making. The script is just plain awful and that was the free part. The effects aren't bad, but this film plays out like a conventional R-rated movie with lame scares and cut-away violence rather than a no holds barred unrated gore-fest that was intentionally made for video. Who were these guys kidding? Like this would have been released in theaters.<br /><br />The acting is terrible. The editing, another free aspect of the film, is beyond amateur, and the plot, as I said before, leaves little to be desired. There's nothing original about the film. Gore fans, avoid this one. To the filmmakers: try for something original next time, or stop making movies all together. You're not good at it. People hate a trashy rehash, especially one of such low caliber. AVOID! It isn't even worth making fun of.\"\n        ],\n        \"semantic_type\": \"\",\n        \"description\": \"\"\n      }\n    },\n    {\n      \"column\": \"sentiment\",\n      \"properties\": {\n        \"dtype\": \"category\",\n        \"num_unique_values\": 2,\n        \"samples\": [\n          \"negative\",\n          \"positive\"\n        ],\n        \"semantic_type\": \"\",\n        \"description\": \"\"\n      }\n    }\n  ]\n}"
            }
          },
          "metadata": {},
          "execution_count": 16
        }
      ]
    },
    {
      "cell_type": "code",
      "metadata": {
        "id": "uMSFcIqsdZyH",
        "outputId": "270130a6-c1ca-49fe-97c4-996b8298d162",
        "colab": {
          "base_uri": "https://localhost:8080/"
        }
      },
      "source": [
        "df = df[:24000]\n",
        "len(df)"
      ],
      "execution_count": 17,
      "outputs": [
        {
          "output_type": "execute_result",
          "data": {
            "text/plain": [
              "24000"
            ]
          },
          "metadata": {},
          "execution_count": 17
        }
      ]
    },
    {
      "cell_type": "code",
      "metadata": {
        "id": "GluMm1Nj2DqK"
      },
      "source": [
        "import re\n",
        "def clean_text(text):\n",
        "    text = re.sub(r\"@[A-Za-z0-9]+\", ' ', text)\n",
        "    text = re.sub(r\"https?://[A-Za-z0-9./]+\", ' ', text)\n",
        "    text = re.sub(r\"[^a-zA-z.!?'0-9]\", ' ', text)\n",
        "    text = re.sub('\\t', ' ',  text)\n",
        "    text = re.sub(r\" +\", ' ', text)\n",
        "    return text"
      ],
      "execution_count": 18,
      "outputs": []
    },
    {
      "cell_type": "code",
      "metadata": {
        "id": "8HpgvTb72wtm"
      },
      "source": [
        "df['review'] = df['review'].apply(clean_text)"
      ],
      "execution_count": 19,
      "outputs": []
    },
    {
      "cell_type": "code",
      "metadata": {
        "id": "ptC13l5r25qH",
        "outputId": "2be485e8-daa4-4970-a450-7100fc61800e",
        "colab": {
          "base_uri": "https://localhost:8080/",
          "height": 556
        }
      },
      "source": [
        "rcParams['figure.figsize'] = 8, 6\n",
        "sns.countplot(df.sentiment)\n",
        "plt.xlabel('review score');"
      ],
      "execution_count": 20,
      "outputs": [
        {
          "output_type": "display_data",
          "data": {
            "text/plain": [
              "<Figure size 800x600 with 1 Axes>"
            ],
            "image/png": "[encoded data removed]"
          },
          "metadata": {
            "image/png": {
              "width": 758,
              "height": 539
            }
          }
        }
      ]
    },
    {
      "cell_type": "code",
      "metadata": {
        "id": "2I-Du1vR3EZN"
      },
      "source": [
        "def sentiment2label(sentiment):\n",
        "    if sentiment == \"positive\":\n",
        "        return 1\n",
        "    else :\n",
        "        return 0\n",
        "\n",
        "df['sentiment'] = df['sentiment'].apply(sentiment2label)"
      ],
      "execution_count": 21,
      "outputs": []
    },
    {
      "cell_type": "code",
      "metadata": {
        "id": "YK3jPP3i3lRw",
        "outputId": "4844b58e-ba9d-4881-adb1-4b11a38ad6d3",
        "colab": {
          "base_uri": "https://localhost:8080/",
          "height": 178
        }
      },
      "source": [
        "df['sentiment'].value_counts()"
      ],
      "execution_count": 22,
      "outputs": [
        {
          "output_type": "execute_result",
          "data": {
            "text/plain": [
              "sentiment\n",
              "0    12006\n",
              "1    11994\n",
              "Name: count, dtype: int64"
            ],
            "text/html": [
              "<div>\n",
              "<style scoped>\n",
              "    .dataframe tbody tr th:only-of-type {\n",
              "        vertical-align: middle;\n",
              "    }\n",
              "\n",
              "    .dataframe tbody tr th {\n",
              "        vertical-align: top;\n",
              "    }\n",
              "\n",
              "    .dataframe thead th {\n",
              "        text-align: right;\n",
              "    }\n",
              "</style>\n",
              "<table border=\"1\" class=\"dataframe\">\n",
              "  <thead>\n",
              "    <tr style=\"text-align: right;\">\n",
              "      <th></th>\n",
              "      <th>count</th>\n",
              "    </tr>\n",
              "    <tr>\n",
              "      <th>sentiment</th>\n",
              "      <th></th>\n",
              "    </tr>\n",
              "  </thead>\n",
              "  <tbody>\n",
              "    <tr>\n",
              "      <th>0</th>\n",
              "      <td>12006</td>\n",
              "    </tr>\n",
              "    <tr>\n",
              "      <th>1</th>\n",
              "      <td>11994</td>\n",
              "    </tr>\n",
              "  </tbody>\n",
              "</table>\n",
              "</div><br><label><b>dtype:</b> int64</label>"
            ]
          },
          "metadata": {},
          "execution_count": 22
        }
      ]
    },
    {
      "cell_type": "code",
      "metadata": {
        "id": "StOb4mAa3rgo"
      },
      "source": [
        "class_names = ['negative', 'positive']"
      ],
      "execution_count": 23,
      "outputs": []
    },
    {
      "cell_type": "markdown",
      "metadata": {
        "id": "mmBGGgUVJBpT"
      },
      "source": [
        "### Playing with XLNetTokenizer"
      ]
    },
    {
      "cell_type": "code",
      "metadata": {
        "id": "hVWO_38_32jL",
        "outputId": "bdc5b51c-0c56-4a01-9b61-3f262363bc07",
        "colab": {
          "base_uri": "https://localhost:8080/",
          "height": 217,
          "referenced_widgets": [
            "66a2008847da4078bbf79d19518d82eb",
            "fdeff64227cc42deb321a29a08583a5a",
            "33f199aeba78438ebe9f1e6f42d5738a",
            "5ef1a52f257349dda9444751cc4dad57",
            "8690619f09194084a4301307d0ff3427",
            "366dc9bd516c41a9a867122a31ec70d6",
            "1519b468c8864d3d97e2987044ce3464",
            "b1e8c7dfd91b4836a942afe87969cdd5",
            "03e7c25138f8449e9e64eedf71ad610a",
            "a5cabe195b564f41a84d1f5d5d081ec7",
            "ac5e7db6279d4d22b958f5b78ca85053",
            "c944764305034363bc26a658311405f7",
            "17e7a5e18cc748ad8c91879df12b746b",
            "b9586cdf0d74479e9cfb93c9954af6b8",
            "b8b5afa6053e4329aecb785364fc69ca",
            "6fd55c8871954fedae76582926a7a651",
            "bc7d37136b7d42a2b33a2a0f43ad34a6",
            "bb6212d8191345239f66d8b6007c62e4",
            "b83e2088adff463f8e2d2e247938cee1",
            "cefb90b9a8504f63b196cf41f7f16f30",
            "17412f471c10416e9d28a2d6a6a1345a",
            "933829231e6f446a821c1d4dc51ec60a",
            "f8e33f827b98493d8ece91de8ce78c71",
            "daefeaee89094dab8ca39976d8232c88",
            "263d5186afa64de4a21927bfe827055e",
            "11dbc65385a441e086f4f036fd9d23db",
            "448bae4ec0344897bb0a430f0ba5113d",
            "db76a41a8ad9483a9bdb1ab38ac78643",
            "629f4531fdfc4d02b1b9b2aef4c6781a",
            "476d81d8a70c4150a3bcc00baad87e17",
            "0afdc9d54e1d4a61add9febd122bc643",
            "86135ff623a5450399044edac9b6e369",
            "f0327c94cc0a43e9966bda93464fd7b7"
          ]
        }
      },
      "source": [
        "from transformers import XLNetTokenizer, XLNetModel\n",
        "PRE_TRAINED_MODEL_NAME = 'xlnet-base-cased'\n",
        "tokenizer = XLNetTokenizer.from_pretrained(PRE_TRAINED_MODEL_NAME)"
      ],
      "execution_count": 24,
      "outputs": [
        {
          "output_type": "stream",
          "name": "stderr",
          "text": [
            "/usr/local/lib/python3.10/dist-packages/huggingface_hub/utils/_auth.py:94: UserWarning: \n",
            "The secret `HF_TOKEN` does not exist in your Colab secrets.\n",
            "To authenticate with the Hugging Face Hub, create a token in your settings tab (https://huggingface.co/settings/tokens), set it as secret in your Google Colab and restart your session.\n",
            "You will be able to reuse this secret in all of your notebooks.\n",
            "Please note that authentication is recommended but still optional to access public models or datasets.\n",
            "  warnings.warn(\n"
          ]
        },
        {
          "output_type": "display_data",
          "data": {
            "text/plain": [
              "spiece.model:   0%|          | 0.00/798k [00:00<?, ?B/s]"
            ],
            "application/vnd.jupyter.widget-view+json": {
              "version_major": 2,
              "version_minor": 0,
              "model_id": "66a2008847da4078bbf79d19518d82eb"
            }
          },
          "metadata": {}
        },
        {
          "output_type": "display_data",
          "data": {
            "text/plain": [
              "tokenizer.json:   0%|          | 0.00/1.38M [00:00<?, ?B/s]"
            ],
            "application/vnd.jupyter.widget-view+json": {
              "version_major": 2,
              "version_minor": 0,
              "model_id": "c944764305034363bc26a658311405f7"
            }
          },
          "metadata": {}
        },
        {
          "output_type": "display_data",
          "data": {
            "text/plain": [
              "config.json:   0%|          | 0.00/760 [00:00<?, ?B/s]"
            ],
            "application/vnd.jupyter.widget-view+json": {
              "version_major": 2,
              "version_minor": 0,
              "model_id": "f8e33f827b98493d8ece91de8ce78c71"
            }
          },
          "metadata": {}
        }
      ]
    },
    {
      "cell_type": "code",
      "metadata": {
        "id": "1ckpqWd_YWgZ",
        "colab": {
          "base_uri": "https://localhost:8080/"
        },
        "outputId": "9089c0d8-6826-4ae4-cdf2-e70a6c0e85f7"
      },
      "source": [
        "input_txt = \"India is my country. All Indians are my brothers and sisters\"\n",
        "encodings = tokenizer.encode_plus(input_txt, add_special_tokens=True, max_length=16, return_tensors='pt', return_token_type_ids=False, return_attention_mask=True, pad_to_max_length=False)"
      ],
      "execution_count": 25,
      "outputs": [
        {
          "output_type": "stream",
          "name": "stderr",
          "text": [
            "Truncation was not explicitly activated but `max_length` is provided a specific value, please use `truncation=True` to explicitly truncate examples to max length. Defaulting to 'longest_first' truncation strategy. If you encode pairs of sequences (GLUE-style) with the tokenizer you can select this strategy more precisely by providing a specific strategy to `truncation`.\n"
          ]
        }
      ]
    },
    {
      "cell_type": "code",
      "metadata": {
        "id": "Y_ew5njtYWc1",
        "outputId": "8bc0d7ce-0afe-4799-a962-5d5dbe5efda5",
        "colab": {
          "base_uri": "https://localhost:8080/"
        }
      },
      "source": [
        "print('input_ids : ',encodings['input_ids'])"
      ],
      "execution_count": 26,
      "outputs": [
        {
          "output_type": "stream",
          "name": "stdout",
          "text": [
            "input_ids :  tensor([[ 837,   27,   94,  234,    9,  394, 7056,   41,   94, 4194,   21, 8301,\n",
            "            4,    3]])\n"
          ]
        }
      ]
    },
    {
      "cell_type": "code",
      "metadata": {
        "id": "eEXfe39mYWK7",
        "outputId": "a050343e-809a-4359-e0e4-14b288e618eb",
        "colab": {
          "base_uri": "https://localhost:8080/"
        }
      },
      "source": [
        "tokenizer.convert_ids_to_tokens(encodings['input_ids'][0])"
      ],
      "execution_count": 27,
      "outputs": [
        {
          "output_type": "execute_result",
          "data": {
            "text/plain": [
              "['▁India',\n",
              " '▁is',\n",
              " '▁my',\n",
              " '▁country',\n",
              " '.',\n",
              " '▁All',\n",
              " '▁Indians',\n",
              " '▁are',\n",
              " '▁my',\n",
              " '▁brothers',\n",
              " '▁and',\n",
              " '▁sisters',\n",
              " '<sep>',\n",
              " '<cls>']"
            ]
          },
          "metadata": {},
          "execution_count": 27
        }
      ]
    },
    {
      "cell_type": "code",
      "metadata": {
        "id": "XR1xkLYtTurv",
        "outputId": "d6ab0546-5504-4998-9834-fcc872a59c15",
        "colab": {
          "base_uri": "https://localhost:8080/"
        }
      },
      "source": [
        "type(encodings['attention_mask'])"
      ],
      "execution_count": 28,
      "outputs": [
        {
          "output_type": "execute_result",
          "data": {
            "text/plain": [
              "torch.Tensor"
            ]
          },
          "metadata": {},
          "execution_count": 28
        }
      ]
    },
    {
      "cell_type": "code",
      "metadata": {
        "id": "Pp97KX-9UtMK"
      },
      "source": [
        "attention_mask = pad_sequences(encodings['attention_mask'], maxlen=512, dtype=torch.Tensor ,truncating=\"post\",padding=\"post\")"
      ],
      "execution_count": 29,
      "outputs": []
    },
    {
      "cell_type": "code",
      "metadata": {
        "id": "6Pzeyv1_UvMT",
        "outputId": "cfe9a409-d938-4c6a-a547-b30a7ba271ad",
        "colab": {
          "base_uri": "https://localhost:8080/"
        }
      },
      "source": [
        "attention_mask = attention_mask.astype(dtype = 'int64')\n",
        "attention_mask = torch.tensor(attention_mask)\n",
        "attention_mask.flatten()"
      ],
      "execution_count": 30,
      "outputs": [
        {
          "output_type": "execute_result",
          "data": {
            "text/plain": [
              "tensor([1, 1, 1, 1, 1, 1, 1, 1, 1, 1, 1, 1, 1, 1, 0, 0, 0, 0, 0, 0, 0, 0, 0, 0,\n",
              "        0, 0, 0, 0, 0, 0, 0, 0, 0, 0, 0, 0, 0, 0, 0, 0, 0, 0, 0, 0, 0, 0, 0, 0,\n",
              "        0, 0, 0, 0, 0, 0, 0, 0, 0, 0, 0, 0, 0, 0, 0, 0, 0, 0, 0, 0, 0, 0, 0, 0,\n",
              "        0, 0, 0, 0, 0, 0, 0, 0, 0, 0, 0, 0, 0, 0, 0, 0, 0, 0, 0, 0, 0, 0, 0, 0,\n",
              "        0, 0, 0, 0, 0, 0, 0, 0, 0, 0, 0, 0, 0, 0, 0, 0, 0, 0, 0, 0, 0, 0, 0, 0,\n",
              "        0, 0, 0, 0, 0, 0, 0, 0, 0, 0, 0, 0, 0, 0, 0, 0, 0, 0, 0, 0, 0, 0, 0, 0,\n",
              "        0, 0, 0, 0, 0, 0, 0, 0, 0, 0, 0, 0, 0, 0, 0, 0, 0, 0, 0, 0, 0, 0, 0, 0,\n",
              "        0, 0, 0, 0, 0, 0, 0, 0, 0, 0, 0, 0, 0, 0, 0, 0, 0, 0, 0, 0, 0, 0, 0, 0,\n",
              "        0, 0, 0, 0, 0, 0, 0, 0, 0, 0, 0, 0, 0, 0, 0, 0, 0, 0, 0, 0, 0, 0, 0, 0,\n",
              "        0, 0, 0, 0, 0, 0, 0, 0, 0, 0, 0, 0, 0, 0, 0, 0, 0, 0, 0, 0, 0, 0, 0, 0,\n",
              "        0, 0, 0, 0, 0, 0, 0, 0, 0, 0, 0, 0, 0, 0, 0, 0, 0, 0, 0, 0, 0, 0, 0, 0,\n",
              "        0, 0, 0, 0, 0, 0, 0, 0, 0, 0, 0, 0, 0, 0, 0, 0, 0, 0, 0, 0, 0, 0, 0, 0,\n",
              "        0, 0, 0, 0, 0, 0, 0, 0, 0, 0, 0, 0, 0, 0, 0, 0, 0, 0, 0, 0, 0, 0, 0, 0,\n",
              "        0, 0, 0, 0, 0, 0, 0, 0, 0, 0, 0, 0, 0, 0, 0, 0, 0, 0, 0, 0, 0, 0, 0, 0,\n",
              "        0, 0, 0, 0, 0, 0, 0, 0, 0, 0, 0, 0, 0, 0, 0, 0, 0, 0, 0, 0, 0, 0, 0, 0,\n",
              "        0, 0, 0, 0, 0, 0, 0, 0, 0, 0, 0, 0, 0, 0, 0, 0, 0, 0, 0, 0, 0, 0, 0, 0,\n",
              "        0, 0, 0, 0, 0, 0, 0, 0, 0, 0, 0, 0, 0, 0, 0, 0, 0, 0, 0, 0, 0, 0, 0, 0,\n",
              "        0, 0, 0, 0, 0, 0, 0, 0, 0, 0, 0, 0, 0, 0, 0, 0, 0, 0, 0, 0, 0, 0, 0, 0,\n",
              "        0, 0, 0, 0, 0, 0, 0, 0, 0, 0, 0, 0, 0, 0, 0, 0, 0, 0, 0, 0, 0, 0, 0, 0,\n",
              "        0, 0, 0, 0, 0, 0, 0, 0, 0, 0, 0, 0, 0, 0, 0, 0, 0, 0, 0, 0, 0, 0, 0, 0,\n",
              "        0, 0, 0, 0, 0, 0, 0, 0, 0, 0, 0, 0, 0, 0, 0, 0, 0, 0, 0, 0, 0, 0, 0, 0,\n",
              "        0, 0, 0, 0, 0, 0, 0, 0])"
            ]
          },
          "metadata": {},
          "execution_count": 30
        }
      ]
    },
    {
      "cell_type": "code",
      "metadata": {
        "id": "kM7cxiA9RlnA",
        "outputId": "0e27347a-c488-4044-f51c-89217e8b7d40",
        "colab": {
          "base_uri": "https://localhost:8080/"
        }
      },
      "source": [
        "encodings['input_ids']"
      ],
      "execution_count": 31,
      "outputs": [
        {
          "output_type": "execute_result",
          "data": {
            "text/plain": [
              "tensor([[ 837,   27,   94,  234,    9,  394, 7056,   41,   94, 4194,   21, 8301,\n",
              "            4,    3]])"
            ]
          },
          "metadata": {},
          "execution_count": 31
        }
      ]
    },
    {
      "cell_type": "markdown",
      "metadata": {
        "id": "M12PPghlJUbg"
      },
      "source": [
        "### Checking the distribution of token lengths"
      ]
    },
    {
      "cell_type": "code",
      "metadata": {
        "id": "zW4_SrOw4BDy"
      },
      "source": [
        "token_lens = []\n",
        "\n",
        "for txt in df['review']:\n",
        "  tokens = tokenizer.encode(txt, max_length=512)\n",
        "  token_lens.append(len(tokens))"
      ],
      "execution_count": 32,
      "outputs": []
    },
    {
      "cell_type": "code",
      "metadata": {
        "id": "aSxO20TU4dz5",
        "outputId": "fbc0a322-6a2b-44f6-c1d0-c8506c303ab0",
        "colab": {
          "base_uri": "https://localhost:8080/",
          "height": 747
        }
      },
      "source": [
        "sns.distplot(token_lens)\n",
        "plt.xlim([0, 1024]);\n",
        "plt.xlabel('Token count');"
      ],
      "execution_count": 33,
      "outputs": [
        {
          "output_type": "stream",
          "name": "stderr",
          "text": [
            "<ipython-input-33-1301f1bfee97>:1: UserWarning: \n",
            "\n",
            "`distplot` is a deprecated function and will be removed in seaborn v0.14.0.\n",
            "\n",
            "Please adapt your code to use either `displot` (a figure-level function with\n",
            "similar flexibility) or `histplot` (an axes-level function for histograms).\n",
            "\n",
            "For a guide to updating your code to use the new functions, please see\n",
            "https://gist.github.com/mwaskom/de44147ed2974457ad6372750bbe5751\n",
            "\n",
            "  sns.distplot(token_lens)\n"
          ]
        },
        {
          "output_type": "display_data",
          "data": {
            "text/plain": [
              "<Figure size 800x600 with 1 Axes>"
            ],
            "image/png": "[encoded data removed]"
          },
          "metadata": {
            "image/png": {
              "width": 739,
              "height": 539
            }
          }
        }
      ]
    },
    {
      "cell_type": "code",
      "metadata": {
        "id": "CR3rHUQR4pDE"
      },
      "source": [
        "MAX_LEN = 512"
      ],
      "execution_count": 34,
      "outputs": []
    },
    {
      "cell_type": "markdown",
      "metadata": {
        "id": "e6Kutw4dJyUG"
      },
      "source": [
        "### Custom Dataset class"
      ]
    },
    {
      "cell_type": "code",
      "metadata": {
        "id": "q2NOYXcjPK4z"
      },
      "source": [
        "class ImdbDataset(Dataset):\n",
        "\n",
        "    def __init__(self, reviews, targets, tokenizer, max_len):\n",
        "        self.reviews = reviews\n",
        "        self.targets = targets\n",
        "        self.tokenizer = tokenizer\n",
        "        self.max_len = max_len\n",
        "\n",
        "    def __len__(self):\n",
        "        return len(self.reviews)\n",
        "\n",
        "    def __getitem__(self, item):\n",
        "        review = str(self.reviews[item])\n",
        "        target = self.targets[item]\n",
        "\n",
        "        encoding = self.tokenizer.encode_plus(\n",
        "        review,\n",
        "        add_special_tokens=True,\n",
        "        max_length=self.max_len,\n",
        "        return_token_type_ids=False,\n",
        "        pad_to_max_length=False,\n",
        "        return_attention_mask=True,\n",
        "        return_tensors='pt',\n",
        "        )\n",
        "\n",
        "        input_ids = pad_sequences(encoding['input_ids'], maxlen=MAX_LEN, dtype=torch.Tensor ,truncating=\"post\",padding=\"post\")\n",
        "        input_ids = input_ids.astype(dtype = 'int64')\n",
        "        input_ids = torch.tensor(input_ids)\n",
        "\n",
        "        attention_mask = pad_sequences(encoding['attention_mask'], maxlen=MAX_LEN, dtype=torch.Tensor ,truncating=\"post\",padding=\"post\")\n",
        "        attention_mask = attention_mask.astype(dtype = 'int64')\n",
        "        attention_mask = torch.tensor(attention_mask)\n",
        "\n",
        "        return {\n",
        "        'review_text': review,\n",
        "        'input_ids': input_ids,\n",
        "        'attention_mask': attention_mask.flatten(),\n",
        "        'targets': torch.tensor(target, dtype=torch.long)\n",
        "        }"
      ],
      "execution_count": 35,
      "outputs": []
    },
    {
      "cell_type": "code",
      "metadata": {
        "id": "wYXt2AtW6iaT"
      },
      "source": [
        "df_train, df_test = train_test_split(df, test_size=0.5, random_state=101)\n",
        "df_val, df_test = train_test_split(df_test, test_size=0.5, random_state=101)"
      ],
      "execution_count": 36,
      "outputs": []
    },
    {
      "cell_type": "code",
      "metadata": {
        "id": "VmAsa9pg6oac",
        "outputId": "5b3f0d86-c9ab-4210-c975-96d35cb3dc26",
        "colab": {
          "base_uri": "https://localhost:8080/"
        }
      },
      "source": [
        "df_train.shape, df_val.shape, df_test.shape"
      ],
      "execution_count": 37,
      "outputs": [
        {
          "output_type": "execute_result",
          "data": {
            "text/plain": [
              "((12000, 2), (6000, 2), (6000, 2))"
            ]
          },
          "metadata": {},
          "execution_count": 37
        }
      ]
    },
    {
      "cell_type": "markdown",
      "metadata": {
        "id": "iFw2z6ElMZMX"
      },
      "source": [
        "### Custom Dataloader"
      ]
    },
    {
      "cell_type": "code",
      "metadata": {
        "id": "3rd7890Z6zLr"
      },
      "source": [
        "def create_data_loader(df, tokenizer, max_len, batch_size):\n",
        "  ds = ImdbDataset(\n",
        "    reviews=df.review.to_numpy(),\n",
        "    targets=df.sentiment.to_numpy(),\n",
        "    tokenizer=tokenizer,\n",
        "    max_len=max_len\n",
        "  )\n",
        "\n",
        "  return DataLoader(\n",
        "    ds,\n",
        "    batch_size=batch_size,\n",
        "    num_workers=4\n",
        "  )"
      ],
      "execution_count": 38,
      "outputs": []
    },
    {
      "cell_type": "code",
      "metadata": {
        "id": "tVU8o6i569ly",
        "colab": {
          "base_uri": "https://localhost:8080/"
        },
        "outputId": "97a7dfcc-0ee9-4b93-b2fa-b1f0706794f1"
      },
      "source": [
        "BATCH_SIZE = 4\n",
        "\n",
        "train_data_loader = create_data_loader(df_train, tokenizer, MAX_LEN, BATCH_SIZE)\n",
        "val_data_loader = create_data_loader(df_val, tokenizer, MAX_LEN, BATCH_SIZE)\n",
        "test_data_loader = create_data_loader(df_test, tokenizer, MAX_LEN, BATCH_SIZE)"
      ],
      "execution_count": 39,
      "outputs": [
        {
          "output_type": "stream",
          "name": "stderr",
          "text": [
            "/usr/local/lib/python3.10/dist-packages/torch/utils/data/dataloader.py:617: UserWarning: This DataLoader will create 4 worker processes in total. Our suggested max number of worker in current system is 2, which is smaller than what this DataLoader is going to create. Please be aware that excessive worker creation might get DataLoader running slow or even freeze, lower the worker number to avoid potential slowness/freeze if necessary.\n",
            "  warnings.warn(\n"
          ]
        }
      ]
    },
    {
      "cell_type": "markdown",
      "metadata": {
        "id": "aC5D5Dh8J5w9"
      },
      "source": [
        "### Loading the Pre-trained XLNet model for sequence classification from huggingface transformers"
      ]
    },
    {
      "cell_type": "code",
      "metadata": {
        "id": "H5mC8v6i7VH1",
        "outputId": "cae217d0-7d13-4386-b67f-c15f32e7ac30",
        "colab": {
          "base_uri": "https://localhost:8080/",
          "height": 104,
          "referenced_widgets": [
            "77aa0d845100428db0ec6d3921fc2b02",
            "fe1d580fd3d244639de4b2bf8bd0025f",
            "0cdf2587261b40a1920e41d3f5fcbfba",
            "a0244b57d010446097a7d356d20ec9da",
            "c1cd124b6a7c4a9894f1d26c31f4ab36",
            "ef9c48766e68444b83a1f3c3193de16e",
            "fd7fd01c31414b1ca487627145dfe6a2",
            "ddaa81737f8d474faee2187a08598f61",
            "3c22594bd9364a1aadf98ff9c8ff36c0",
            "cbb6e7a9eabe47aea61fa2e6a019f230",
            "6778207080d04b2c82e4f892ef7e66d7"
          ]
        }
      },
      "source": [
        "from transformers import XLNetForSequenceClassification\n",
        "model = XLNetForSequenceClassification.from_pretrained('xlnet-base-cased', num_labels = 2)\n",
        "model = model.to(device)"
      ],
      "execution_count": 40,
      "outputs": [
        {
          "output_type": "display_data",
          "data": {
            "text/plain": [
              "pytorch_model.bin:   0%|          | 0.00/467M [00:00<?, ?B/s]"
            ],
            "application/vnd.jupyter.widget-view+json": {
              "version_major": 2,
              "version_minor": 0,
              "model_id": "77aa0d845100428db0ec6d3921fc2b02"
            }
          },
          "metadata": {}
        },
        {
          "output_type": "stream",
          "name": "stderr",
          "text": [
            "Some weights of XLNetForSequenceClassification were not initialized from the model checkpoint at xlnet-base-cased and are newly initialized: ['logits_proj.bias', 'logits_proj.weight', 'sequence_summary.summary.bias', 'sequence_summary.summary.weight']\n",
            "You should probably TRAIN this model on a down-stream task to be able to use it for predictions and inference.\n"
          ]
        }
      ]
    },
    {
      "cell_type": "code",
      "metadata": {
        "id": "KYsVoULvfmvD",
        "outputId": "431e384a-6cef-4115-c898-fc7089773d3f",
        "colab": {
          "base_uri": "https://localhost:8080/"
        }
      },
      "source": [
        "model"
      ],
      "execution_count": 41,
      "outputs": [
        {
          "output_type": "execute_result",
          "data": {
            "text/plain": [
              "XLNetForSequenceClassification(\n",
              "  (transformer): XLNetModel(\n",
              "    (word_embedding): Embedding(32000, 768)\n",
              "    (layer): ModuleList(\n",
              "      (0-11): 12 x XLNetLayer(\n",
              "        (rel_attn): XLNetRelativeAttention(\n",
              "          (layer_norm): LayerNorm((768,), eps=1e-12, elementwise_affine=True)\n",
              "          (dropout): Dropout(p=0.1, inplace=False)\n",
              "        )\n",
              "        (ff): XLNetFeedForward(\n",
              "          (layer_norm): LayerNorm((768,), eps=1e-12, elementwise_affine=True)\n",
              "          (layer_1): Linear(in_features=768, out_features=3072, bias=True)\n",
              "          (layer_2): Linear(in_features=3072, out_features=768, bias=True)\n",
              "          (dropout): Dropout(p=0.1, inplace=False)\n",
              "          (activation_function): GELUActivation()\n",
              "        )\n",
              "        (dropout): Dropout(p=0.1, inplace=False)\n",
              "      )\n",
              "    )\n",
              "    (dropout): Dropout(p=0.1, inplace=False)\n",
              "  )\n",
              "  (sequence_summary): SequenceSummary(\n",
              "    (summary): Linear(in_features=768, out_features=768, bias=True)\n",
              "    (activation): Tanh()\n",
              "    (first_dropout): Identity()\n",
              "    (last_dropout): Dropout(p=0.1, inplace=False)\n",
              "  )\n",
              "  (logits_proj): Linear(in_features=768, out_features=2, bias=True)\n",
              ")"
            ]
          },
          "metadata": {},
          "execution_count": 41
        }
      ]
    },
    {
      "cell_type": "markdown",
      "metadata": {
        "id": "vpn2sTTMK_zL"
      },
      "source": [
        "### Setting Hyperparameters"
      ]
    },
    {
      "cell_type": "code",
      "metadata": {
        "id": "aQ9Od31B9YJa",
        "colab": {
          "base_uri": "https://localhost:8080/"
        },
        "outputId": "0ad05b3a-ad39-4484-c7ff-fc844998de1e"
      },
      "source": [
        "EPOCHS = 3\n",
        "\n",
        "param_optimizer = list(model.named_parameters())\n",
        "no_decay = ['bias', 'LayerNorm.bias', 'LayerNorm.weight']\n",
        "optimizer_grouped_parameters = [\n",
        "                                {'params': [p for n, p in param_optimizer if not any(nd in n for nd in no_decay)], 'weight_decay': 0.01},\n",
        "                                {'params': [p for n, p in param_optimizer if any(nd in n for nd in no_decay)], 'weight_decay':0.0}\n",
        "]\n",
        "optimizer = AdamW(optimizer_grouped_parameters, lr=3e-5)\n",
        "\n",
        "total_steps = len(train_data_loader) * EPOCHS\n",
        "\n",
        "scheduler = get_linear_schedule_with_warmup(\n",
        "  optimizer,\n",
        "  num_warmup_steps=0,\n",
        "  num_training_steps=total_steps\n",
        ")"
      ],
      "execution_count": 42,
      "outputs": [
        {
          "output_type": "stream",
          "name": "stderr",
          "text": [
            "/usr/local/lib/python3.10/dist-packages/transformers/optimization.py:591: FutureWarning: This implementation of AdamW is deprecated and will be removed in a future version. Use the PyTorch implementation torch.optim.AdamW instead, or set `no_deprecation_warning=True` to disable this warning\n",
            "  warnings.warn(\n"
          ]
        }
      ]
    },
    {
      "cell_type": "markdown",
      "metadata": {
        "id": "G2AtJcvwLV3x"
      },
      "source": [
        "### Sanity check with one batch"
      ]
    },
    {
      "cell_type": "code",
      "metadata": {
        "id": "rUoaMqjvKdym",
        "outputId": "ca6eaf35-b74e-4792-f1f7-d46cc9dfa6b1",
        "colab": {
          "base_uri": "https://localhost:8080/"
        }
      },
      "source": [
        "data = next(iter(val_data_loader))\n",
        "data.keys()"
      ],
      "execution_count": 43,
      "outputs": [
        {
          "output_type": "execute_result",
          "data": {
            "text/plain": [
              "dict_keys(['review_text', 'input_ids', 'attention_mask', 'targets'])"
            ]
          },
          "metadata": {},
          "execution_count": 43
        }
      ]
    },
    {
      "cell_type": "code",
      "metadata": {
        "id": "RIUB5WJNKhBs",
        "outputId": "b7e1a188-2fa8-40c0-bd92-59b051d3362a",
        "colab": {
          "base_uri": "https://localhost:8080/"
        }
      },
      "source": [
        "input_ids = data['input_ids'].to(device)\n",
        "attention_mask = data['attention_mask'].to(device)\n",
        "targets = data['targets'].to(device)\n",
        "print(input_ids.reshape(4,512).shape) # batch size x seq length\n",
        "print(attention_mask.shape) # batch size x seq length"
      ],
      "execution_count": 44,
      "outputs": [
        {
          "output_type": "stream",
          "name": "stdout",
          "text": [
            "torch.Size([4, 512])\n",
            "torch.Size([4, 512])\n"
          ]
        }
      ]
    },
    {
      "cell_type": "code",
      "metadata": {
        "id": "EYsDR9leYb4Z",
        "outputId": "c176b9ac-1622-41b5-cb9e-e6430b5d308a",
        "colab": {
          "base_uri": "https://localhost:8080/"
        }
      },
      "source": [
        "input_ids[0]"
      ],
      "execution_count": 45,
      "outputs": [
        {
          "output_type": "execute_result",
          "data": {
            "text/plain": [
              "tensor([[   35,    26,   215,   435,    52,  1365,    21,  3353,     9,  4716,\n",
              "          2537,    31,    58,   162,   192,    40,    24,  1288,   275,  2263,\n",
              "            22,   182,    24,    17,    26, 16071,   778,    26,    29,  3469,\n",
              "           107,   151,    24, 18041,  3401,    17, 16847,   939,     9,  1577,\n",
              "           477,   805,    57,   195,   406,  1825,    22,   107,    21,    63,\n",
              "          8008,  4623,    38,    58,  5754,     9,    17,  2369,    17,  2369,\n",
              "            17, 29720,    63,   220,    26,    46,     9,  7174,    63,    26,\n",
              "            88, 23064,   151,    37,    24,   321, 17785, 19167,    61,    51,\n",
              "           106,  3404,  3728,   705,    21,   113, 30977,    23,    27,  2640,\n",
              "           641,    20, 13943, 30436,     9,    17,  2369,    17,  2369,    35,\n",
              "           937,    22,   287,   197,   124,    20,   166,  6454,    25,   124,\n",
              "          1432,   545,   292,     9,  1988, 11247, 27288,    56,  9185,   675,\n",
              "           110,    24, 16180,    21,    18,  4948,    30,   102, 10488,  1062,\n",
              "            29,    36,   738,    24,   434,    20,  5632, 16055,    21,   555,\n",
              "         15450,  4140, 30182, 11247,     9,   394,    25,    71,    65,    20,\n",
              "            18,  2598,  3640,  6941, 17045,    23,    35,    26,   189,   545,\n",
              "           566,     9,     9,     9,   443,    35,    26,   189,   566,    24,\n",
              "           434,     9,     4,     3,     0,     0,     0,     0,     0,     0,\n",
              "             0,     0,     0,     0,     0,     0,     0,     0,     0,     0,\n",
              "             0,     0,     0,     0,     0,     0,     0,     0,     0,     0,\n",
              "             0,     0,     0,     0,     0,     0,     0,     0,     0,     0,\n",
              "             0,     0,     0,     0,     0,     0,     0,     0,     0,     0,\n",
              "             0,     0,     0,     0,     0,     0,     0,     0,     0,     0,\n",
              "             0,     0,     0,     0,     0,     0,     0,     0,     0,     0,\n",
              "             0,     0,     0,     0,     0,     0,     0,     0,     0,     0,\n",
              "             0,     0,     0,     0,     0,     0,     0,     0,     0,     0,\n",
              "             0,     0,     0,     0,     0,     0,     0,     0,     0,     0,\n",
              "             0,     0,     0,     0,     0,     0,     0,     0,     0,     0,\n",
              "             0,     0,     0,     0,     0,     0,     0,     0,     0,     0,\n",
              "             0,     0,     0,     0,     0,     0,     0,     0,     0,     0,\n",
              "             0,     0,     0,     0,     0,     0,     0,     0,     0,     0,\n",
              "             0,     0,     0,     0,     0,     0,     0,     0,     0,     0,\n",
              "             0,     0,     0,     0,     0,     0,     0,     0,     0,     0,\n",
              "             0,     0,     0,     0,     0,     0,     0,     0,     0,     0,\n",
              "             0,     0,     0,     0,     0,     0,     0,     0,     0,     0,\n",
              "             0,     0,     0,     0,     0,     0,     0,     0,     0,     0,\n",
              "             0,     0,     0,     0,     0,     0,     0,     0,     0,     0,\n",
              "             0,     0,     0,     0,     0,     0,     0,     0,     0,     0,\n",
              "             0,     0,     0,     0,     0,     0,     0,     0,     0,     0,\n",
              "             0,     0,     0,     0,     0,     0,     0,     0,     0,     0,\n",
              "             0,     0,     0,     0,     0,     0,     0,     0,     0,     0,\n",
              "             0,     0,     0,     0,     0,     0,     0,     0,     0,     0,\n",
              "             0,     0,     0,     0,     0,     0,     0,     0,     0,     0,\n",
              "             0,     0,     0,     0,     0,     0,     0,     0,     0,     0,\n",
              "             0,     0,     0,     0,     0,     0,     0,     0,     0,     0,\n",
              "             0,     0,     0,     0,     0,     0,     0,     0,     0,     0,\n",
              "             0,     0,     0,     0,     0,     0,     0,     0,     0,     0,\n",
              "             0,     0,     0,     0,     0,     0,     0,     0,     0,     0,\n",
              "             0,     0,     0,     0,     0,     0,     0,     0,     0,     0,\n",
              "             0,     0,     0,     0,     0,     0,     0,     0,     0,     0,\n",
              "             0,     0,     0,     0,     0,     0,     0,     0,     0,     0,\n",
              "             0,     0]], device='cuda:0')"
            ]
          },
          "metadata": {},
          "execution_count": 45
        }
      ]
    },
    {
      "cell_type": "code",
      "metadata": {
        "id": "KCFLKXL0KmaA",
        "outputId": "3bd01036-7cba-49b3-ec02-235c9d72d832",
        "colab": {
          "base_uri": "https://localhost:8080/"
        }
      },
      "source": [
        "outputs = model(input_ids.reshape(4,512), token_type_ids=None, attention_mask=attention_mask, labels=targets)\n",
        "outputs"
      ],
      "execution_count": 46,
      "outputs": [
        {
          "output_type": "execute_result",
          "data": {
            "text/plain": [
              "XLNetForSequenceClassificationOutput(loss=tensor(0.7809, device='cuda:0', grad_fn=<NllLossBackward0>), logits=tensor([[-0.2470,  0.0884],\n",
              "        [-0.1366,  0.0733],\n",
              "        [-0.2973,  0.1329],\n",
              "        [-0.1923, -0.1319]], device='cuda:0', grad_fn=<AddmmBackward0>), mems=(tensor([[[ 0.0257,  0.0011, -0.0448,  ..., -0.0297,  0.0106, -0.0088],\n",
              "         [-0.0415,  0.0177,  0.0402,  ...,  0.0531, -0.0284, -0.0153],\n",
              "         [ 0.0257,  0.0011, -0.0448,  ..., -0.0297,  0.0106, -0.0088],\n",
              "         [-0.0846, -0.0144, -0.0604,  ...,  0.1511, -0.0151,  0.0457]],\n",
              "\n",
              "        [[-0.0564, -0.0022, -0.0290,  ...,  0.0329,  0.0430, -0.0191],\n",
              "         [-0.0306,  0.0898,  0.0013,  ...,  0.0369,  0.0740,  0.0559],\n",
              "         [ 0.0251, -0.0208,  0.0378,  ...,  0.0044,  0.0551, -0.0330],\n",
              "         [ 0.0189,  0.0707,  0.0113,  ...,  0.0709,  0.0096,  0.1102]],\n",
              "\n",
              "        [[ 0.0168, -0.0097, -0.0105,  ...,  0.0206,  0.0429,  0.0055],\n",
              "         [-0.0092,  0.0315,  0.0652,  ...,  0.0869,  0.0206,  0.0274],\n",
              "         [-0.0050,  0.1086,  0.0374,  ...,  0.0556,  0.0943, -0.0156],\n",
              "         [-0.0181,  0.0023, -0.0315,  ..., -0.0262, -0.0153, -0.0046]],\n",
              "\n",
              "        ...,\n",
              "\n",
              "        [[-0.0049,  0.0655, -0.0151,  ..., -0.0458, -0.0061,  0.0346],\n",
              "         [-0.0049,  0.0655, -0.0151,  ..., -0.0458, -0.0061,  0.0346],\n",
              "         [-0.0049,  0.0655, -0.0151,  ..., -0.0458, -0.0061,  0.0346],\n",
              "         [-0.0049,  0.0655, -0.0151,  ..., -0.0458, -0.0061,  0.0346]],\n",
              "\n",
              "        [[-0.0049,  0.0655, -0.0151,  ..., -0.0458, -0.0061,  0.0346],\n",
              "         [-0.0049,  0.0655, -0.0151,  ..., -0.0458, -0.0061,  0.0346],\n",
              "         [-0.0049,  0.0655, -0.0151,  ..., -0.0458, -0.0061,  0.0346],\n",
              "         [-0.0049,  0.0655, -0.0151,  ..., -0.0458, -0.0061,  0.0346]],\n",
              "\n",
              "        [[-0.0049,  0.0655, -0.0151,  ..., -0.0458, -0.0061,  0.0346],\n",
              "         [-0.0049,  0.0655, -0.0151,  ..., -0.0458, -0.0061,  0.0346],\n",
              "         [-0.0049,  0.0655, -0.0151,  ..., -0.0458, -0.0061,  0.0346],\n",
              "         [-0.0049,  0.0655, -0.0151,  ..., -0.0458, -0.0061,  0.0346]]],\n",
              "       device='cuda:0'), tensor([[[ 0.1204, -0.6337, -1.4878,  ...,  0.2707, -0.7892,  0.9346],\n",
              "         [-1.4038,  0.1816,  0.1318,  ...,  0.4811, -0.8471, -0.2106],\n",
              "         [ 0.6376, -0.3975, -0.8696,  ..., -0.2407, -0.0988,  0.5510],\n",
              "         [-1.6983,  0.3566, -1.3953,  ...,  2.3199, -0.2786,  0.2846]],\n",
              "\n",
              "        [[-1.5261, -0.3997, -0.1920,  ...,  0.7039, -0.0779,  1.1339],\n",
              "         [-0.5083,  1.7931,  0.2510,  ...,  0.5419,  2.5219,  1.0991],\n",
              "         [ 0.6059, -0.4001,  0.9868,  ..., -0.0102,  0.5072, -0.0269],\n",
              "         [ 0.1555,  1.8244, -0.1000,  ...,  0.4392,  0.2283,  2.4824]],\n",
              "\n",
              "        [[-0.3956, -0.2635, -0.1067,  ...,  0.1678, -0.6261,  0.5085],\n",
              "         [ 0.4147,  1.3075,  0.7734,  ...,  0.8544, -0.1766,  1.2229],\n",
              "         [ 0.3081,  1.7889,  1.4789,  ...,  0.6303,  2.1271, -0.2235],\n",
              "         [ 0.0112, -0.4708, -1.1226,  ..., -0.4429, -0.0677,  0.4348]],\n",
              "\n",
              "        ...,\n",
              "\n",
              "        [[ 0.0819,  1.9453,  0.0265,  ..., -0.5581, -0.7307,  0.7609],\n",
              "         [ 0.2261,  1.9676, -0.1173,  ..., -0.6615, -0.7704,  0.7689],\n",
              "         [ 0.2105,  1.9433,  0.0422,  ..., -0.4128, -0.5458,  0.7994],\n",
              "         [ 0.0278,  2.0178,  0.0472,  ..., -0.5998, -1.1943,  0.7573]],\n",
              "\n",
              "        [[ 0.0999,  1.9609,  0.0683,  ..., -0.4933, -0.7227,  0.7220],\n",
              "         [ 0.1970,  1.9292, -0.1016,  ..., -0.7533, -0.8320,  0.8144],\n",
              "         [ 0.2446,  1.9082, -0.0069,  ..., -0.3933, -0.4640,  0.7880],\n",
              "         [ 0.0411,  1.9514,  0.0211,  ..., -0.7018, -1.2402,  0.7795]],\n",
              "\n",
              "        [[ 0.1209,  1.9341,  0.0622,  ..., -0.5810, -0.7759,  0.7467],\n",
              "         [ 0.1666,  1.9360, -0.1053,  ..., -0.7765, -0.8495,  0.8292],\n",
              "         [ 0.2324,  1.8519,  0.0123,  ..., -0.4328, -0.5084,  0.7958],\n",
              "         [ 0.0534,  1.9457,  0.0153,  ..., -0.7287, -1.2533,  0.7750]]],\n",
              "       device='cuda:0'), tensor([[[-0.0141, -0.6029, -1.9364,  ...,  0.8611, -1.0802,  1.3455],\n",
              "         [-1.0213, -0.1464, -0.4712,  ...,  0.8937, -0.9725, -0.1314],\n",
              "         [ 0.5506, -0.2967, -0.7335,  ...,  0.2505,  0.0753,  0.0465],\n",
              "         [-0.9772,  0.5017, -0.9936,  ...,  2.1486, -0.4028, -0.1621]],\n",
              "\n",
              "        [[-1.5473, -0.5080, -0.9400,  ...,  0.9164, -0.2790,  1.1082],\n",
              "         [-0.5517,  1.5841,  0.1610,  ...,  0.7878,  1.5147,  0.3797],\n",
              "         [ 0.6006, -0.2343,  0.9187,  ..., -0.3258,  0.1517, -0.0845],\n",
              "         [ 0.2499,  1.9335,  0.2306,  ...,  0.2172,  0.8647,  0.6460]],\n",
              "\n",
              "        [[-0.4344, -0.1842, -0.6562,  ...,  0.6682, -0.6632,  0.8363],\n",
              "         [ 0.0084,  0.4843,  1.4084,  ...,  0.7949, -0.6511,  1.5582],\n",
              "         [ 0.4353,  1.3889,  0.9550,  ...,  0.6358,  1.9122,  0.1694],\n",
              "         [-0.3480, -0.7536, -0.8148,  ...,  0.0263,  0.7898,  0.1695]],\n",
              "\n",
              "        ...,\n",
              "\n",
              "        [[-0.3266,  1.9194,  0.2189,  ...,  0.0997, -0.6220,  0.6268],\n",
              "         [-0.2254,  1.6751,  0.3032,  ...,  0.0232, -0.8215,  0.7156],\n",
              "         [-0.1201,  1.7398,  0.3220,  ..., -0.0805, -0.3233,  0.7420],\n",
              "         [-0.4298,  1.8455,  0.5127,  ...,  0.3498, -1.0682,  0.3425]],\n",
              "\n",
              "        [[-0.3746,  1.8179,  0.1948,  ...,  0.1415, -0.6959,  0.5826],\n",
              "         [-0.2319,  1.6559,  0.2954,  ..., -0.0648, -0.8098,  0.8252],\n",
              "         [-0.1060,  1.7542,  0.3486,  ..., -0.1051, -0.2368,  0.6827],\n",
              "         [-0.4636,  1.8382,  0.5354,  ...,  0.2824, -1.0934,  0.4435]],\n",
              "\n",
              "        [[-0.4087,  1.7754,  0.2480,  ...,  0.0442, -0.7768,  0.6529],\n",
              "         [-0.2369,  1.6475,  0.3151,  ..., -0.0733, -0.8129,  0.8630],\n",
              "         [-0.1363,  1.7256,  0.3504,  ..., -0.1306, -0.2772,  0.6979],\n",
              "         [-0.4736,  1.8579,  0.5134,  ...,  0.2456, -1.0613,  0.4738]]],\n",
              "       device='cuda:0'), tensor([[[ 0.0150, -0.1182, -1.7752,  ...,  1.1762, -1.3224, -0.0641],\n",
              "         [-0.9774, -0.7879, -0.9872,  ...,  1.7010, -0.9221, -1.3174],\n",
              "         [ 0.1204, -0.2347, -1.0991,  ...,  0.4509, -0.0928, -0.5352],\n",
              "         [-1.7412,  0.6249, -0.8614,  ...,  2.8592, -0.1267, -1.5434]],\n",
              "\n",
              "        [[-0.9910, -0.6245, -1.4407,  ...,  0.9861, -0.2488,  0.5032],\n",
              "         [-0.5242,  2.0183,  0.4265,  ...,  1.0008,  1.6217,  0.8289],\n",
              "         [ 0.0301, -0.1693,  0.6327,  ..., -0.0040,  0.1856, -0.0691],\n",
              "         [-0.9880,  2.3518, -0.0147,  ...,  1.7211,  0.7224, -1.6761]],\n",
              "\n",
              "        [[-0.3703,  0.0840, -0.7415,  ...,  1.2723, -0.6313,  0.5180],\n",
              "         [-0.3661,  0.5286,  1.4848,  ...,  1.5341, -0.5079,  1.1359],\n",
              "         [ 0.0364,  1.0656,  0.4521,  ...,  1.0327,  2.2564, -0.3155],\n",
              "         [-1.3371, -0.9711, -0.3442,  ...,  0.5280,  0.7428, -1.6351]],\n",
              "\n",
              "        ...,\n",
              "\n",
              "        [[-0.5161,  2.8082,  0.1787,  ...,  0.8232, -0.7654,  1.0551],\n",
              "         [-0.3395,  2.4565,  0.4568,  ...,  0.8714, -1.0463,  0.7585],\n",
              "         [-0.2391,  2.8354,  0.2497,  ...,  0.7677, -0.5157,  1.4015],\n",
              "         [-0.5341,  2.7848,  0.5037,  ...,  1.3017, -1.4380, -0.1603]],\n",
              "\n",
              "        [[-0.4964,  2.7875,  0.0983,  ...,  0.9791, -0.8448,  0.9899],\n",
              "         [-0.3513,  2.4687,  0.4414,  ...,  0.7470, -0.9758,  1.0011],\n",
              "         [-0.2621,  2.8308,  0.2682,  ...,  0.6577, -0.3788,  1.4339],\n",
              "         [-0.5823,  2.7552,  0.5554,  ...,  1.1722, -1.4567,  0.0884]],\n",
              "\n",
              "        [[-0.4916,  2.7649,  0.1500,  ...,  0.9155, -0.9356,  1.0857],\n",
              "         [-0.3714,  2.4385,  0.4529,  ...,  0.7665, -0.9519,  1.0828],\n",
              "         [-0.2981,  2.7865,  0.2967,  ...,  0.6395, -0.3986,  1.4935],\n",
              "         [-0.5928,  2.7687,  0.5414,  ...,  1.1217, -1.4005,  0.1916]]],\n",
              "       device='cuda:0'), tensor([[[ 0.1610, -0.2400, -1.6912,  ...,  1.5236, -1.5446,  0.8500],\n",
              "         [-0.8274, -0.7225, -1.2874,  ...,  1.7170, -0.4700, -0.3783],\n",
              "         [ 0.1933, -0.4320, -0.7969,  ...,  0.7664, -0.5416, -0.2150],\n",
              "         [-0.9422, -0.1584, -1.2182,  ...,  2.2140,  0.4234, -0.6860]],\n",
              "\n",
              "        [[-1.1949, -0.5424, -1.3052,  ...,  1.2538, -1.1453,  0.7539],\n",
              "         [-0.4880,  1.2986,  0.4315,  ...,  1.3848,  1.7451,  1.0479],\n",
              "         [-0.5120, -0.7535,  0.6921,  ...,  0.3087, -0.5386, -0.5268],\n",
              "         [-0.1909,  1.4836, -0.2925,  ...,  2.3993,  1.0854, -1.1500]],\n",
              "\n",
              "        [[-0.3571,  0.0244, -0.8506,  ...,  1.3331, -1.2652,  0.5378],\n",
              "         [-0.2642, -0.0338,  0.6702,  ...,  1.9914, -0.3366,  1.4831],\n",
              "         [-0.4731,  0.3156,  0.3351,  ...,  1.2686,  1.5726, -0.4727],\n",
              "         [-0.8566, -0.6489, -0.3159,  ...,  1.2308,  1.0214, -1.0220]],\n",
              "\n",
              "        ...,\n",
              "\n",
              "        [[-0.1252,  2.2208,  0.0139,  ...,  1.3930, -0.0974,  1.5411],\n",
              "         [-0.1691,  2.1487,  0.0635,  ...,  1.5955, -0.5786,  1.4812],\n",
              "         [ 0.2106,  2.1883,  0.3494,  ...,  1.1961,  0.1351,  1.7806],\n",
              "         [-0.3716,  2.4826,  0.1955,  ...,  1.9806, -1.3050,  0.6892]],\n",
              "\n",
              "        [[-0.0543,  2.1910,  0.0209,  ...,  1.3978, -0.0507,  1.6209],\n",
              "         [-0.0285,  2.1683,  0.0349,  ...,  1.5252, -0.3623,  1.5932],\n",
              "         [ 0.2335,  2.1591,  0.4043,  ...,  1.1012,  0.2986,  1.8356],\n",
              "         [-0.3520,  2.4762,  0.2687,  ...,  1.8633, -1.2800,  0.7516]],\n",
              "\n",
              "        [[-0.0060,  2.1660,  0.0421,  ...,  1.3851, -0.1785,  1.6190],\n",
              "         [ 0.0069,  2.1192,  0.0146,  ...,  1.5857, -0.3206,  1.5945],\n",
              "         [ 0.2056,  2.1221,  0.4171,  ...,  1.0984,  0.2911,  1.8676],\n",
              "         [-0.3596,  2.4717,  0.2525,  ...,  1.8416, -1.2128,  0.7798]]],\n",
              "       device='cuda:0'), tensor([[[ 0.4633, -0.1672, -1.0594,  ...,  0.7387, -0.7885,  0.6815],\n",
              "         [-0.6645, -0.4908, -1.0176,  ...,  1.1462, -0.3416, -0.5830],\n",
              "         [ 0.5065, -0.0869, -0.6251,  ...,  0.2640, -0.3078, -0.3682],\n",
              "         [-0.4995, -0.3152, -0.6507,  ...,  2.1049, -0.0112, -0.2585]],\n",
              "\n",
              "        [[-0.3386, -0.3843, -1.0622,  ...,  0.6171, -0.2611,  0.1434],\n",
              "         [-0.5603,  0.9648,  0.0751,  ...,  0.8216,  0.9050,  0.4714],\n",
              "         [-0.2779, -0.5422,  0.4338,  ...,  0.2433, -0.3747, -0.6908],\n",
              "         [-0.2285,  0.8864,  0.0635,  ...,  1.9937,  0.2898, -0.6646]],\n",
              "\n",
              "        [[-0.0458,  0.0228, -0.8550,  ...,  0.7123, -0.4844,  0.1654],\n",
              "         [-0.5167,  0.1908,  0.1137,  ...,  1.1896, -0.0767,  0.8536],\n",
              "         [-0.3864,  0.3587, -0.2210,  ...,  0.7283,  0.7515, -0.4209],\n",
              "         [-0.5366, -0.4728, -0.0832,  ...,  1.5423,  0.5366, -0.4687]],\n",
              "\n",
              "        ...,\n",
              "\n",
              "        [[-0.0801,  1.8811,  0.1483,  ...,  1.2679, -0.4015,  1.0977],\n",
              "         [-0.0524,  1.5494,  0.2579,  ...,  1.2906, -0.5983,  0.8158],\n",
              "         [ 0.2412,  1.9365,  0.4111,  ...,  1.0711, -0.1649,  1.0012],\n",
              "         [ 0.3315,  1.7720,  0.2053,  ...,  1.2895, -0.9797,  1.0009]],\n",
              "\n",
              "        [[ 0.0148,  1.8991,  0.1579,  ...,  1.3397, -0.3674,  1.0209],\n",
              "         [ 0.0165,  1.6113,  0.1288,  ...,  1.3150, -0.4621,  0.9620],\n",
              "         [ 0.2827,  1.9061,  0.4575,  ...,  1.0605, -0.1109,  1.0673],\n",
              "         [ 0.3616,  1.7713,  0.2141,  ...,  1.2530, -0.9731,  1.1111]],\n",
              "\n",
              "        [[ 0.0982,  1.8700,  0.1316,  ...,  1.2683, -0.4190,  1.0683],\n",
              "         [ 0.0229,  1.5902,  0.0449,  ...,  1.4032, -0.4453,  1.0211],\n",
              "         [ 0.2496,  1.8794,  0.4869,  ...,  1.0482, -0.1187,  1.0706],\n",
              "         [ 0.3366,  1.7745,  0.1855,  ...,  1.3070, -0.9622,  1.1296]]],\n",
              "       device='cuda:0'), tensor([[[ 3.6848e-01, -7.8261e-01, -1.6917e+00,  ...,  9.0398e-01,\n",
              "          -9.3173e-01,  1.1175e+00],\n",
              "         [-6.6114e-01, -7.2804e-01, -1.2434e+00,  ...,  1.6630e+00,\n",
              "          -3.0873e-01, -2.9893e-01],\n",
              "         [ 4.0156e-01, -3.1290e-01, -1.1969e+00,  ...,  2.7777e-01,\n",
              "          -6.7102e-01, -5.9202e-01],\n",
              "         [-4.7448e-01, -4.5183e-01, -9.0772e-01,  ...,  2.1734e+00,\n",
              "          -4.8658e-01,  2.2705e-01]],\n",
              "\n",
              "        [[-2.9965e-01, -8.8877e-01, -1.6747e+00,  ...,  6.2136e-01,\n",
              "          -5.4979e-01,  5.5384e-01],\n",
              "         [-6.6316e-01,  1.2205e+00, -3.7192e-01,  ...,  8.9994e-01,\n",
              "           7.3792e-01,  7.9133e-01],\n",
              "         [-1.0018e-01, -6.1276e-01, -2.6184e-01,  ..., -1.4404e-03,\n",
              "          -8.8704e-01, -1.2274e+00],\n",
              "         [-7.1537e-02,  9.8206e-01, -4.3184e-01,  ...,  2.0838e+00,\n",
              "          -1.9146e-01, -4.8069e-01]],\n",
              "\n",
              "        [[-2.2072e-01, -3.1922e-01, -1.3476e+00,  ...,  7.6861e-01,\n",
              "          -8.2595e-01,  5.4597e-01],\n",
              "         [-7.6867e-01,  2.0987e-01, -1.9201e-01,  ...,  1.7947e+00,\n",
              "          -4.2843e-01,  1.1282e+00],\n",
              "         [-4.0065e-01,  2.1140e-01, -9.2224e-01,  ...,  8.1774e-01,\n",
              "           6.8061e-02, -5.8147e-01],\n",
              "         [-2.9702e-01, -9.4824e-01, -4.7981e-01,  ...,  1.8568e+00,\n",
              "           7.4195e-01, -3.1569e-01]],\n",
              "\n",
              "        ...,\n",
              "\n",
              "        [[ 2.4722e-01,  2.3269e+00,  2.2969e-01,  ...,  1.5854e+00,\n",
              "          -1.0622e-01,  5.0759e-01],\n",
              "         [ 1.3100e-01,  1.7839e+00,  3.4815e-01,  ...,  1.4532e+00,\n",
              "          -2.3260e-02,  3.6351e-01],\n",
              "         [ 3.9722e-01,  2.4468e+00,  5.4650e-01,  ...,  1.4717e+00,\n",
              "           1.5531e-01,  4.1505e-01],\n",
              "         [ 6.6218e-01,  1.9471e+00,  2.6683e-01,  ...,  1.6836e+00,\n",
              "          -3.1041e-01,  6.0261e-01]],\n",
              "\n",
              "        [[ 3.8997e-01,  2.4550e+00,  2.5935e-01,  ...,  1.5842e+00,\n",
              "           4.5491e-03,  3.2620e-01],\n",
              "         [ 1.4089e-01,  1.8679e+00,  3.0246e-01,  ...,  1.5846e+00,\n",
              "           7.7038e-02,  5.0410e-01],\n",
              "         [ 4.0446e-01,  2.4166e+00,  6.1464e-01,  ...,  1.4557e+00,\n",
              "           1.5619e-01,  4.7941e-01],\n",
              "         [ 7.1300e-01,  1.9322e+00,  3.7437e-01,  ...,  1.7240e+00,\n",
              "          -3.4382e-01,  7.5074e-01]],\n",
              "\n",
              "        [[ 4.7071e-01,  2.3677e+00,  2.2103e-01,  ...,  1.5617e+00,\n",
              "          -7.1780e-02,  3.8573e-01],\n",
              "         [ 1.4658e-01,  1.9037e+00,  2.4922e-01,  ...,  1.7411e+00,\n",
              "           9.5554e-02,  4.7674e-01],\n",
              "         [ 3.7040e-01,  2.3933e+00,  6.5068e-01,  ...,  1.4557e+00,\n",
              "           1.5270e-01,  4.6237e-01],\n",
              "         [ 6.7172e-01,  1.9086e+00,  3.9036e-01,  ...,  1.8129e+00,\n",
              "          -3.6892e-01,  7.8546e-01]]], device='cuda:0'), tensor([[[ 0.1835, -0.7767, -1.5183,  ...,  0.7090, -0.6612,  0.6217],\n",
              "         [-1.0551, -1.2914, -0.9304,  ...,  1.3856, -0.4121,  0.1953],\n",
              "         [ 0.6081, -0.8602, -0.8043,  ..., -0.1365, -0.5214,  0.3711],\n",
              "         [-0.6619, -0.8738, -0.7904,  ...,  1.6141, -0.3722,  0.5179]],\n",
              "\n",
              "        [[ 0.1946, -0.7518, -1.1652,  ...,  0.4351, -0.5544,  0.0788],\n",
              "         [-0.7979,  0.7437, -0.0708,  ...,  0.7477,  0.3608,  0.7494],\n",
              "         [ 0.1303, -0.9749,  0.3357,  ..., -0.5105, -0.3477, -0.7068],\n",
              "         [-0.3033,  0.4465, -0.4601,  ...,  1.5177,  0.0382,  0.0144]],\n",
              "\n",
              "        [[ 0.3904, -0.4443, -0.6438,  ...,  0.5129, -0.9212,  0.0482],\n",
              "         [-0.6925,  0.0200, -0.1447,  ...,  1.5418, -0.1226,  1.1189],\n",
              "         [-0.4468, -0.3103, -0.5870,  ...,  0.4209,  0.1842, -0.5071],\n",
              "         [-0.4564, -1.3555, -0.4165,  ...,  1.5175,  1.0016,  0.0243]],\n",
              "\n",
              "        ...,\n",
              "\n",
              "        [[ 0.3072,  2.3585,  0.2794,  ...,  1.3862, -0.0593,  0.2474],\n",
              "         [ 0.1059,  1.7285,  0.3037,  ...,  1.4198,  0.1324,  0.1141],\n",
              "         [ 0.3194,  2.3507,  0.3715,  ...,  1.5477,  0.0850,  0.2217],\n",
              "         [ 0.5822,  1.9299,  0.1624,  ...,  1.4685, -0.0797,  0.3389]],\n",
              "\n",
              "        [[ 0.3453,  2.5199,  0.2761,  ...,  1.5046, -0.0181,  0.1635],\n",
              "         [ 0.0951,  1.7343,  0.3351,  ...,  1.5551,  0.2526,  0.2005],\n",
              "         [ 0.3510,  2.3181,  0.4462,  ...,  1.5295,  0.1064,  0.2503],\n",
              "         [ 0.6093,  1.8735,  0.2529,  ...,  1.4817, -0.0290,  0.3837]],\n",
              "\n",
              "        [[ 0.4180,  2.4098,  0.2443,  ...,  1.4512, -0.0910,  0.2036],\n",
              "         [ 0.0916,  1.7324,  0.3001,  ...,  1.6666,  0.3113,  0.1126],\n",
              "         [ 0.3351,  2.2940,  0.5036,  ...,  1.5371,  0.1187,  0.2244],\n",
              "         [ 0.5196,  1.8308,  0.2715,  ...,  1.6085,  0.0121,  0.3925]]],\n",
              "       device='cuda:0'), tensor([[[ 0.3066, -0.6151, -0.7493,  ...,  0.6243, -0.7871,  0.6089],\n",
              "         [-0.6472, -0.7829, -0.9010,  ...,  1.5255, -1.0629, -0.5858],\n",
              "         [ 0.6810, -0.9297, -1.3416,  ..., -0.4258, -0.7469,  0.5457],\n",
              "         [-0.3465, -1.2595, -0.3099,  ...,  1.5913, -0.8874,  0.2123]],\n",
              "\n",
              "        [[ 0.2404, -0.1437, -0.6574,  ...,  0.7121, -0.4158, -0.2601],\n",
              "         [-0.0936,  1.1622,  0.0266,  ...,  0.5109, -0.3988,  0.8122],\n",
              "         [-0.0316, -0.8261, -0.4099,  ..., -0.5774, -0.5610, -0.0036],\n",
              "         [ 0.1064,  0.0333,  0.0227,  ...,  1.4274, -0.6002,  0.0739]],\n",
              "\n",
              "        [[ 0.6923, -0.0072, -0.3196,  ...,  0.8748, -0.6401, -0.1331],\n",
              "         [-0.4163,  0.5766,  0.0583,  ...,  1.5304, -0.6474,  0.9261],\n",
              "         [-0.3913, -0.0631, -1.1292,  ...,  0.5269, -0.3304,  0.0174],\n",
              "         [-0.4165, -1.4668, -0.1513,  ...,  1.4160,  0.3175,  0.1341]],\n",
              "\n",
              "        ...,\n",
              "\n",
              "        [[ 0.4170,  2.0212,  0.9855,  ...,  0.6117, -0.7042, -0.4739],\n",
              "         [ 0.4453,  1.5087,  0.6711,  ...,  0.6604, -0.5761, -0.2549],\n",
              "         [ 0.4803,  2.2019,  1.1070,  ...,  1.0687, -0.7310, -0.4260],\n",
              "         [ 0.4469,  1.3545,  0.2777,  ...,  0.6033, -0.5218,  0.4834]],\n",
              "\n",
              "        [[ 0.4657,  2.1917,  1.0214,  ...,  0.7541, -0.7472, -0.6358],\n",
              "         [ 0.4595,  1.5052,  0.7497,  ...,  0.7580, -0.4265, -0.2290],\n",
              "         [ 0.5252,  2.2092,  1.1820,  ...,  1.0795, -0.7260, -0.4406],\n",
              "         [ 0.3859,  1.3293,  0.3305,  ...,  0.7283, -0.3965,  0.6147]],\n",
              "\n",
              "        [[ 0.5627,  2.0541,  0.9986,  ...,  0.6749, -0.7903, -0.5407],\n",
              "         [ 0.4805,  1.4984,  0.7342,  ...,  0.8156, -0.3775, -0.2756],\n",
              "         [ 0.5237,  2.2000,  1.2245,  ...,  1.0947, -0.7080, -0.4731],\n",
              "         [ 0.3005,  1.3170,  0.3342,  ...,  0.8547, -0.3594,  0.6618]]],\n",
              "       device='cuda:0'), tensor([[[-0.0478, -0.2250, -0.8185,  ...,  0.2221, -0.6003,  0.4394],\n",
              "         [-0.6892, -0.5330, -0.7409,  ...,  1.1415, -1.2045, -0.4975],\n",
              "         [ 0.3266, -0.7754, -0.9981,  ..., -0.5329, -0.6182,  0.3434],\n",
              "         [-0.4752, -0.9304,  0.0147,  ...,  1.3006, -0.6750, -0.2424]],\n",
              "\n",
              "        [[-0.0170,  0.1446, -0.7123,  ...,  0.1232, -0.4233, -0.2046],\n",
              "         [-0.0864,  1.0462,  0.1041,  ...,  0.2081, -0.5806,  0.5477],\n",
              "         [-0.0415, -0.5587,  0.1457,  ..., -0.5622, -0.4230, -0.2929],\n",
              "         [-0.3221,  0.0513,  0.1038,  ...,  1.1079, -0.2456, -0.2193]],\n",
              "\n",
              "        [[ 0.3129,  0.2843, -0.3867,  ...,  0.3465, -0.7015, -0.0292],\n",
              "         [-0.4391,  0.4472,  0.0993,  ...,  1.0998, -0.4967,  0.4328],\n",
              "         [-0.8965,  0.0394, -0.5779,  ...,  0.1347, -0.4537, -0.0058],\n",
              "         [-0.5856, -1.2367,  0.0855,  ...,  1.0258,  0.4106, -0.0974]],\n",
              "\n",
              "        ...,\n",
              "\n",
              "        [[ 0.1134,  1.4964,  0.8815,  ..., -0.1202, -0.5348, -0.5684],\n",
              "         [ 0.3808,  0.9929,  0.8188,  ..., -0.0365, -0.4974, -0.4002],\n",
              "         [ 0.0325,  1.6126,  0.9773,  ...,  0.4274, -0.4503, -0.6586],\n",
              "         [ 0.4495,  1.3411,  0.3940,  ...,  0.1004, -0.4798,  0.1697]],\n",
              "\n",
              "        [[ 0.0798,  1.6704,  0.8899,  ..., -0.0576, -0.6231, -0.6634],\n",
              "         [ 0.4007,  1.0287,  0.8466,  ...,  0.0033, -0.4023, -0.3982],\n",
              "         [ 0.0751,  1.6341,  1.0377,  ...,  0.4295, -0.4532, -0.7093],\n",
              "         [ 0.4330,  1.3651,  0.4550,  ...,  0.2695, -0.4279,  0.3213]],\n",
              "\n",
              "        [[ 0.1987,  1.5580,  0.8927,  ..., -0.0743, -0.6652, -0.5968],\n",
              "         [ 0.4110,  1.0512,  0.7983,  ...,  0.0478, -0.3620, -0.4364],\n",
              "         [ 0.0755,  1.6398,  1.0694,  ...,  0.4339, -0.4381, -0.7476],\n",
              "         [ 0.3888,  1.3628,  0.5022,  ...,  0.3993, -0.3938,  0.3665]]],\n",
              "       device='cuda:0'), tensor([[[ 0.0760,  0.3497, -1.1903,  ..., -0.0999, -0.0304,  0.2582],\n",
              "         [-1.4566, -0.5114, -0.7515,  ...,  1.5155, -1.3114, -0.3169],\n",
              "         [ 0.6829, -1.1933, -1.1152,  ..., -0.6683, -0.5476,  0.3405],\n",
              "         [-0.1069, -0.8842,  0.0836,  ...,  1.2808, -0.8615, -0.0040]],\n",
              "\n",
              "        [[-0.3334,  0.3241, -0.7929,  ...,  0.1796,  0.4627, -0.1391],\n",
              "         [-0.7097,  1.0812,  0.0523,  ...,  0.1909, -0.4678,  0.9042],\n",
              "         [ 0.5815, -1.1437,  0.2248,  ..., -0.5576, -0.4528, -0.3952],\n",
              "         [-0.3233,  0.0527, -0.4104,  ...,  0.9494, -0.0598, -0.0519]],\n",
              "\n",
              "        [[-0.1096,  0.4545, -0.8438,  ...,  0.3704, -0.2089, -0.1735],\n",
              "         [-0.7368,  0.5898,  0.1245,  ...,  1.3445, -0.5748,  0.5059],\n",
              "         [-0.9575, -0.1903, -0.3051,  ..., -0.1504, -0.6463, -0.1520],\n",
              "         [-0.3220, -1.0981, -0.2126,  ...,  0.7134,  0.6433, -0.0492]],\n",
              "\n",
              "        ...,\n",
              "\n",
              "        [[-0.4456,  1.4783,  1.0280,  ..., -0.0832, -0.4237, -0.3482],\n",
              "         [-0.0547,  0.9651,  1.1690,  ...,  0.0649, -0.1425, -0.1348],\n",
              "         [-0.5644,  1.6117,  0.9415,  ...,  0.4006, -0.0324, -0.7995],\n",
              "         [ 0.0521,  1.8352,  0.6784,  ...,  0.1469, -0.2683,  0.4918]],\n",
              "\n",
              "        [[-0.6036,  1.7275,  1.0210,  ..., -0.1155, -0.4249, -0.4748],\n",
              "         [-0.0220,  1.0009,  1.1732,  ...,  0.0706, -0.0453, -0.1467],\n",
              "         [-0.5164,  1.6388,  0.9643,  ...,  0.3798, -0.0527, -0.8990],\n",
              "         [ 0.1733,  1.8925,  0.7140,  ...,  0.3769, -0.2672,  0.6827]],\n",
              "\n",
              "        [[-0.4522,  1.6096,  1.0955,  ..., -0.1316, -0.4816, -0.3811],\n",
              "         [ 0.0204,  1.0153,  1.1169,  ...,  0.0982, -0.0019, -0.1636],\n",
              "         [-0.5141,  1.6492,  0.9759,  ...,  0.3761, -0.0387, -0.9631],\n",
              "         [ 0.1811,  1.8818,  0.7527,  ...,  0.5575, -0.2375,  0.7465]]],\n",
              "       device='cuda:0'), tensor([[[-0.2754, -0.0188, -0.3063,  ...,  0.3651,  0.2257,  0.1859],\n",
              "         [-1.1203, -0.4315, -0.3011,  ...,  1.4782, -0.8850, -0.0889],\n",
              "         [ 0.1291, -0.7327, -0.2094,  ..., -0.3349, -0.3416,  0.3831],\n",
              "         [-0.4326, -0.8535, -0.4793,  ...,  1.1470, -0.7985,  0.4253]],\n",
              "\n",
              "        [[-0.7136, -0.0034, -0.3609,  ...,  0.2340,  0.5124,  0.2691],\n",
              "         [-0.7677,  1.1528, -0.1664,  ...,  0.3225, -0.4544,  1.2087],\n",
              "         [ 0.0997, -0.7714,  0.2592,  ..., -0.3209, -0.3961, -0.0388],\n",
              "         [-0.8645,  0.0926, -0.7821,  ...,  0.7837,  0.0101,  0.6669]],\n",
              "\n",
              "        [[-0.6104,  0.1080, -0.3499,  ...,  0.4239, -0.1655,  0.5007],\n",
              "         [-0.6552,  0.5404, -0.0642,  ...,  0.8656, -0.3566,  0.3148],\n",
              "         [-0.6119, -0.0647, -0.1792,  ...,  0.0182, -0.4769,  0.4646],\n",
              "         [-0.8481, -1.2812, -0.5066,  ...,  0.6989,  0.2710,  0.2617]],\n",
              "\n",
              "        ...,\n",
              "\n",
              "        [[-0.1649,  0.8061,  0.6658,  ..., -0.2721, -0.2808, -0.2715],\n",
              "         [ 0.2542,  0.5724,  0.6590,  ..., -0.0542, -0.1213, -0.0305],\n",
              "         [-0.2354,  0.8573,  0.5872,  ..., -0.0821, -0.0070, -0.5155],\n",
              "         [ 0.1927,  1.0593,  0.3853,  ..., -0.2264, -0.2340,  0.2663]],\n",
              "\n",
              "        [[-0.3070,  0.9447,  0.6571,  ..., -0.2905, -0.3034, -0.3461],\n",
              "         [ 0.2398,  0.6344,  0.6750,  ..., -0.0846, -0.0517, -0.0514],\n",
              "         [-0.2176,  0.8718,  0.6177,  ..., -0.0893, -0.0187, -0.5903],\n",
              "         [ 0.2104,  1.1072,  0.4223,  ..., -0.0760, -0.2516,  0.3694]],\n",
              "\n",
              "        [[-0.2054,  0.8734,  0.7151,  ..., -0.2856, -0.3149, -0.3014],\n",
              "         [ 0.2346,  0.6678,  0.6608,  ..., -0.1078, -0.0122, -0.0673],\n",
              "         [-0.2207,  0.8818,  0.6204,  ..., -0.0937, -0.0140, -0.6362],\n",
              "         [ 0.1944,  1.1048,  0.4604,  ...,  0.0393, -0.2262,  0.4196]]],\n",
              "       device='cuda:0')), hidden_states=None, attentions=None)"
            ]
          },
          "metadata": {},
          "execution_count": 46
        }
      ]
    },
    {
      "cell_type": "code",
      "metadata": {
        "id": "zbyJNtqVkg4Y",
        "outputId": "d66cdec0-7373-47fe-bba7-35ee7d59a10a",
        "colab": {
          "base_uri": "https://localhost:8080/"
        }
      },
      "source": [
        "type(outputs[0])"
      ],
      "execution_count": 47,
      "outputs": [
        {
          "output_type": "execute_result",
          "data": {
            "text/plain": [
              "torch.Tensor"
            ]
          },
          "metadata": {},
          "execution_count": 47
        }
      ]
    },
    {
      "cell_type": "markdown",
      "metadata": {
        "id": "eg44cHnNLd3J"
      },
      "source": [
        "### Defining the training step function"
      ]
    },
    {
      "cell_type": "code",
      "metadata": {
        "id": "tPnWttRNMArt"
      },
      "source": [
        "from sklearn import metrics\n",
        "def train_epoch(model, data_loader, optimizer, device, scheduler, n_examples):\n",
        "    model = model.train()\n",
        "    losses = []\n",
        "    acc = 0\n",
        "    counter = 0\n",
        "\n",
        "    for d in data_loader:\n",
        "        input_ids = d[\"input_ids\"].reshape(4,512).to(device)\n",
        "        attention_mask = d[\"attention_mask\"].to(device)\n",
        "        targets = d[\"targets\"].to(device)\n",
        "\n",
        "        outputs = model(input_ids=input_ids, token_type_ids=None, attention_mask=attention_mask, labels = targets)\n",
        "        loss = outputs[0]\n",
        "        logits = outputs[1]\n",
        "\n",
        "        # preds = preds.cpu().detach().numpy()\n",
        "        _, prediction = torch.max(outputs[1], dim=1)\n",
        "        targets = targets.cpu().detach().numpy()\n",
        "        prediction = prediction.cpu().detach().numpy()\n",
        "        accuracy = metrics.accuracy_score(targets, prediction)\n",
        "\n",
        "        acc += accuracy\n",
        "        losses.append(loss.item())\n",
        "\n",
        "        loss.backward()\n",
        "\n",
        "        nn.utils.clip_grad_norm_(model.parameters(), max_norm=1.0)\n",
        "        optimizer.step()\n",
        "        scheduler.step()\n",
        "        optimizer.zero_grad()\n",
        "        counter = counter + 1\n",
        "\n",
        "    return acc / counter, np.mean(losses)"
      ],
      "execution_count": 48,
      "outputs": []
    },
    {
      "cell_type": "markdown",
      "metadata": {
        "id": "4N2ktqT8LoDS"
      },
      "source": [
        "### Defining the evaluation function"
      ]
    },
    {
      "cell_type": "code",
      "metadata": {
        "id": "V_ZyoJ4qb-CB"
      },
      "source": [
        "def eval_model(model, data_loader, device, n_examples):\n",
        "    model = model.eval()\n",
        "    losses = []\n",
        "    acc = 0\n",
        "    counter = 0\n",
        "\n",
        "    with torch.no_grad():\n",
        "        for d in data_loader:\n",
        "            input_ids = d[\"input_ids\"].reshape(4,512).to(device)\n",
        "            attention_mask = d[\"attention_mask\"].to(device)\n",
        "            targets = d[\"targets\"].to(device)\n",
        "\n",
        "            outputs = model(input_ids=input_ids, token_type_ids=None, attention_mask=attention_mask, labels = targets)\n",
        "            loss = outputs[0]\n",
        "            logits = outputs[1]\n",
        "\n",
        "            _, prediction = torch.max(outputs[1], dim=1)\n",
        "            targets = targets.cpu().detach().numpy()\n",
        "            prediction = prediction.cpu().detach().numpy()\n",
        "            accuracy = metrics.accuracy_score(targets, prediction)\n",
        "\n",
        "            acc += accuracy\n",
        "            losses.append(loss.item())\n",
        "            counter += 1\n",
        "\n",
        "    return acc / counter, np.mean(losses)"
      ],
      "execution_count": 49,
      "outputs": []
    },
    {
      "cell_type": "markdown",
      "metadata": {
        "id": "9AG1TE43LvkX"
      },
      "source": [
        "### Fine-tuning the pre-trained model"
      ]
    },
    {
      "cell_type": "code",
      "metadata": {
        "id": "eNSQSFkScp6f",
        "outputId": "ef7c0996-d66e-4ec1-a140-5b9e4a2c029e",
        "colab": {
          "base_uri": "https://localhost:8080/"
        }
      },
      "source": [
        "%%time\n",
        "history = defaultdict(list)\n",
        "best_accuracy = 0\n",
        "\n",
        "for epoch in range(EPOCHS):\n",
        "    print(f'Epoch {epoch + 1}/{EPOCHS}')\n",
        "    print('-' * 10)\n",
        "\n",
        "    train_acc, train_loss = train_epoch(\n",
        "        model,\n",
        "        train_data_loader,\n",
        "        optimizer,\n",
        "        device,\n",
        "        scheduler,\n",
        "        len(df_train)\n",
        "    )\n",
        "\n",
        "    print(f'Train loss {train_loss} Train accuracy {train_acc}')\n",
        "\n",
        "    val_acc, val_loss = eval_model(\n",
        "        model,\n",
        "        val_data_loader,\n",
        "        device,\n",
        "        len(df_val)\n",
        "    )\n",
        "\n",
        "    print(f'Val loss {val_loss} Val accuracy {val_acc}')\n",
        "    print()\n",
        "\n",
        "    history['train_acc'].append(train_acc)\n",
        "    history['train_loss'].append(train_loss)\n",
        "    history['val_acc'].append(val_acc)\n",
        "    history['val_loss'].append(val_loss)\n",
        "\n",
        "    if val_acc > best_accuracy:\n",
        "        torch.save(model.state_dict(), '/content/drive/My Drive/xlnet_model.bin')\n",
        "        best_accuracy = val_acc"
      ],
      "execution_count": 52,
      "outputs": [
        {
          "output_type": "stream",
          "name": "stdout",
          "text": [
            "Epoch 1/3\n",
            "----------\n"
          ]
        },
        {
          "output_type": "stream",
          "name": "stderr",
          "text": [
            "/usr/local/lib/python3.10/dist-packages/torch/utils/data/dataloader.py:617: UserWarning: This DataLoader will create 4 worker processes in total. Our suggested max number of worker in current system is 2, which is smaller than what this DataLoader is going to create. Please be aware that excessive worker creation might get DataLoader running slow or even freeze, lower the worker number to avoid potential slowness/freeze if necessary.\n",
            "  warnings.warn(\n"
          ]
        },
        {
          "output_type": "stream",
          "name": "stdout",
          "text": [
            "Train loss 0.3605894526908499 Train accuracy 0.9200833333333334\n"
          ]
        },
        {
          "output_type": "stream",
          "name": "stderr",
          "text": [
            "/usr/local/lib/python3.10/dist-packages/torch/utils/data/dataloader.py:617: UserWarning: This DataLoader will create 4 worker processes in total. Our suggested max number of worker in current system is 2, which is smaller than what this DataLoader is going to create. Please be aware that excessive worker creation might get DataLoader running slow or even freeze, lower the worker number to avoid potential slowness/freeze if necessary.\n",
            "  warnings.warn(\n"
          ]
        },
        {
          "output_type": "stream",
          "name": "stdout",
          "text": [
            "Val loss 0.2918383280323663 Val accuracy 0.9225\n",
            "\n",
            "Epoch 2/3\n",
            "----------\n"
          ]
        },
        {
          "output_type": "stream",
          "name": "stderr",
          "text": [
            "/usr/local/lib/python3.10/dist-packages/torch/utils/data/dataloader.py:617: UserWarning: This DataLoader will create 4 worker processes in total. Our suggested max number of worker in current system is 2, which is smaller than what this DataLoader is going to create. Please be aware that excessive worker creation might get DataLoader running slow or even freeze, lower the worker number to avoid potential slowness/freeze if necessary.\n",
            "  warnings.warn(\n"
          ]
        },
        {
          "output_type": "stream",
          "name": "stdout",
          "text": [
            "Train loss 0.16399321160752636 Train accuracy 0.96775\n"
          ]
        },
        {
          "output_type": "stream",
          "name": "stderr",
          "text": [
            "/usr/local/lib/python3.10/dist-packages/torch/utils/data/dataloader.py:617: UserWarning: This DataLoader will create 4 worker processes in total. Our suggested max number of worker in current system is 2, which is smaller than what this DataLoader is going to create. Please be aware that excessive worker creation might get DataLoader running slow or even freeze, lower the worker number to avoid potential slowness/freeze if necessary.\n",
            "  warnings.warn(\n"
          ]
        },
        {
          "output_type": "stream",
          "name": "stdout",
          "text": [
            "Val loss 0.4062405540740777 Val accuracy 0.9361666666666667\n",
            "\n",
            "Epoch 3/3\n",
            "----------\n"
          ]
        },
        {
          "output_type": "stream",
          "name": "stderr",
          "text": [
            "/usr/local/lib/python3.10/dist-packages/torch/utils/data/dataloader.py:617: UserWarning: This DataLoader will create 4 worker processes in total. Our suggested max number of worker in current system is 2, which is smaller than what this DataLoader is going to create. Please be aware that excessive worker creation might get DataLoader running slow or even freeze, lower the worker number to avoid potential slowness/freeze if necessary.\n",
            "  warnings.warn(\n"
          ]
        },
        {
          "output_type": "stream",
          "name": "stdout",
          "text": [
            "Train loss 0.06828304393328775 Train accuracy 0.9888333333333333\n"
          ]
        },
        {
          "output_type": "stream",
          "name": "stderr",
          "text": [
            "/usr/local/lib/python3.10/dist-packages/torch/utils/data/dataloader.py:617: UserWarning: This DataLoader will create 4 worker processes in total. Our suggested max number of worker in current system is 2, which is smaller than what this DataLoader is going to create. Please be aware that excessive worker creation might get DataLoader running slow or even freeze, lower the worker number to avoid potential slowness/freeze if necessary.\n",
            "  warnings.warn(\n"
          ]
        },
        {
          "output_type": "stream",
          "name": "stdout",
          "text": [
            "Val loss 0.3993918097830465 Val accuracy 0.9396666666666667\n",
            "\n",
            "CPU times: user 1h 53min 59s, sys: 25min 49s, total: 2h 19min 48s\n",
            "Wall time: 2h 23min 33s\n"
          ]
        }
      ]
    },
    {
      "cell_type": "markdown",
      "metadata": {
        "id": "qe08GjtNL-Sh"
      },
      "source": [
        "### Evaluation of the fine-tuned model"
      ]
    },
    {
      "cell_type": "code",
      "metadata": {
        "id": "XqtQkz2yrZE3",
        "outputId": "49a2d646-cb79-4736-b5c0-10ffa3289623",
        "colab": {
          "base_uri": "https://localhost:8080/"
        }
      },
      "source": [
        "model.load_state_dict(torch.load('/content/drive/My Drive/xlnet_model.bin'))"
      ],
      "execution_count": 53,
      "outputs": [
        {
          "output_type": "stream",
          "name": "stderr",
          "text": [
            "<ipython-input-53-0cec721e9bc9>:1: FutureWarning: You are using `torch.load` with `weights_only=False` (the current default value), which uses the default pickle module implicitly. It is possible to construct malicious pickle data which will execute arbitrary code during unpickling (See https://github.com/pytorch/pytorch/blob/main/SECURITY.md#untrusted-models for more details). In a future release, the default value for `weights_only` will be flipped to `True`. This limits the functions that could be executed during unpickling. Arbitrary objects will no longer be allowed to be loaded via this mode unless they are explicitly allowlisted by the user via `torch.serialization.add_safe_globals`. We recommend you start setting `weights_only=True` for any use case where you don't have full control of the loaded file. Please open an issue on GitHub for any issues related to this experimental feature.\n",
            "  model.load_state_dict(torch.load('/content/drive/My Drive/xlnet_model.bin'))\n"
          ]
        },
        {
          "output_type": "execute_result",
          "data": {
            "text/plain": [
              "<All keys matched successfully>"
            ]
          },
          "metadata": {},
          "execution_count": 53
        }
      ]
    },
    {
      "cell_type": "code",
      "metadata": {
        "id": "26k0PMpdy1QT"
      },
      "source": [
        "model = model.to(device)"
      ],
      "execution_count": 54,
      "outputs": []
    },
    {
      "cell_type": "code",
      "metadata": {
        "id": "QHINzx6ezSD0",
        "outputId": "d747665d-b2fa-47cd-fa69-d050df48a33f",
        "colab": {
          "base_uri": "https://localhost:8080/"
        }
      },
      "source": [
        "test_acc, test_loss = eval_model(\n",
        "  model,\n",
        "  test_data_loader,\n",
        "  device,\n",
        "  len(df_test)\n",
        ")\n",
        "\n",
        "print('Test Accuracy :', test_acc)\n",
        "print('Test Loss :', test_loss)"
      ],
      "execution_count": 55,
      "outputs": [
        {
          "output_type": "stream",
          "name": "stderr",
          "text": [
            "/usr/local/lib/python3.10/dist-packages/torch/utils/data/dataloader.py:617: UserWarning: This DataLoader will create 4 worker processes in total. Our suggested max number of worker in current system is 2, which is smaller than what this DataLoader is going to create. Please be aware that excessive worker creation might get DataLoader running slow or even freeze, lower the worker number to avoid potential slowness/freeze if necessary.\n",
            "  warnings.warn(\n"
          ]
        },
        {
          "output_type": "stream",
          "name": "stdout",
          "text": [
            "Test Accuracy : 0.9443333333333334\n",
            "Test Loss : 0.3724326635941834\n"
          ]
        }
      ]
    },
    {
      "cell_type": "code",
      "metadata": {
        "id": "NBWsLq4yzubR"
      },
      "source": [
        "def get_predictions(model, data_loader):\n",
        "    model = model.eval()\n",
        "\n",
        "    review_texts = []\n",
        "    predictions = []\n",
        "    prediction_probs = []\n",
        "    real_values = []\n",
        "\n",
        "    with torch.no_grad():\n",
        "        for d in data_loader:\n",
        "\n",
        "            texts = d[\"review_text\"]\n",
        "            input_ids = d[\"input_ids\"].reshape(4,512).to(device)\n",
        "            attention_mask = d[\"attention_mask\"].to(device)\n",
        "            targets = d[\"targets\"].to(device)\n",
        "\n",
        "            outputs = model(input_ids=input_ids, token_type_ids=None, attention_mask=attention_mask, labels = targets)\n",
        "\n",
        "            loss = outputs[0]\n",
        "            logits = outputs[1]\n",
        "\n",
        "            _, preds = torch.max(outputs[1], dim=1)\n",
        "\n",
        "            probs = F.softmax(outputs[1], dim=1)\n",
        "\n",
        "            review_texts.extend(texts)\n",
        "            predictions.extend(preds)\n",
        "            prediction_probs.extend(probs)\n",
        "            real_values.extend(targets)\n",
        "\n",
        "    predictions = torch.stack(predictions).cpu()\n",
        "    prediction_probs = torch.stack(prediction_probs).cpu()\n",
        "    real_values = torch.stack(real_values).cpu()\n",
        "    return review_texts, predictions, prediction_probs, real_values"
      ],
      "execution_count": 56,
      "outputs": []
    },
    {
      "cell_type": "code",
      "metadata": {
        "id": "hwCQaTFH5KWy",
        "colab": {
          "base_uri": "https://localhost:8080/"
        },
        "outputId": "9f7fd933-cd14-41ef-86de-b554ae38913c"
      },
      "source": [
        "y_review_texts, y_pred, y_pred_probs, y_test = get_predictions(\n",
        "  model,\n",
        "  test_data_loader\n",
        ")"
      ],
      "execution_count": 57,
      "outputs": [
        {
          "output_type": "stream",
          "name": "stderr",
          "text": [
            "/usr/local/lib/python3.10/dist-packages/torch/utils/data/dataloader.py:617: UserWarning: This DataLoader will create 4 worker processes in total. Our suggested max number of worker in current system is 2, which is smaller than what this DataLoader is going to create. Please be aware that excessive worker creation might get DataLoader running slow or even freeze, lower the worker number to avoid potential slowness/freeze if necessary.\n",
            "  warnings.warn(\n"
          ]
        }
      ]
    },
    {
      "cell_type": "code",
      "metadata": {
        "id": "wviSSrIP5Pvl",
        "outputId": "4287fb29-7902-4fde-8acf-532b303b4844",
        "colab": {
          "base_uri": "https://localhost:8080/"
        }
      },
      "source": [
        "print(classification_report(y_test, y_pred, target_names=class_names))"
      ],
      "execution_count": 58,
      "outputs": [
        {
          "output_type": "stream",
          "name": "stdout",
          "text": [
            "              precision    recall  f1-score   support\n",
            "\n",
            "    negative       0.95      0.94      0.94      2976\n",
            "    positive       0.94      0.95      0.94      3024\n",
            "\n",
            "    accuracy                           0.94      6000\n",
            "   macro avg       0.94      0.94      0.94      6000\n",
            "weighted avg       0.94      0.94      0.94      6000\n",
            "\n"
          ]
        }
      ]
    },
    {
      "cell_type": "markdown",
      "metadata": {
        "id": "FdrnJkm-MGvv"
      },
      "source": [
        "### Custom prediction function on raw text"
      ]
    },
    {
      "cell_type": "code",
      "metadata": {
        "id": "lIxCoTjo6tWM"
      },
      "source": [
        "def predict_sentiment(text):\n",
        "    review_text = text\n",
        "\n",
        "    encoded_review = tokenizer.encode_plus(\n",
        "    review_text,\n",
        "    max_length=MAX_LEN,\n",
        "    add_special_tokens=True,\n",
        "    return_token_type_ids=False,\n",
        "    pad_to_max_length=False,\n",
        "    return_attention_mask=True,\n",
        "    return_tensors='pt',\n",
        "    )\n",
        "\n",
        "    input_ids = pad_sequences(encoded_review['input_ids'], maxlen=MAX_LEN, dtype=torch.Tensor ,truncating=\"post\",padding=\"post\")\n",
        "    input_ids = input_ids.astype(dtype = 'int64')\n",
        "    input_ids = torch.tensor(input_ids)\n",
        "\n",
        "    attention_mask = pad_sequences(encoded_review['attention_mask'], maxlen=MAX_LEN, dtype=torch.Tensor ,truncating=\"post\",padding=\"post\")\n",
        "    attention_mask = attention_mask.astype(dtype = 'int64')\n",
        "    attention_mask = torch.tensor(attention_mask)\n",
        "\n",
        "    input_ids = input_ids.reshape(1,512).to(device)\n",
        "    attention_mask = attention_mask.to(device)\n",
        "\n",
        "    outputs = model(input_ids=input_ids, attention_mask=attention_mask)\n",
        "\n",
        "    outputs = outputs[0][0].cpu().detach()\n",
        "\n",
        "    probs = F.softmax(outputs, dim=-1).cpu().detach().numpy().tolist()\n",
        "    _, prediction = torch.max(outputs, dim =-1)\n",
        "\n",
        "    print(\"Positive score:\", probs[1])\n",
        "    print(\"Negative score:\", probs[0])\n",
        "    print(f'Review text: {review_text}')\n",
        "    print(f'Sentiment  : {class_names[prediction]}')"
      ],
      "execution_count": 59,
      "outputs": []
    },
    {
      "cell_type": "code",
      "metadata": {
        "id": "8UlPGZgNFV1j",
        "outputId": "7f726d96-80ea-4389-9a3c-9012abaea531",
        "colab": {
          "base_uri": "https://localhost:8080/"
        }
      },
      "source": [
        "text = \"Movie is the worst one I have ever seen!! The story has no meaning at all\"\n",
        "predict_sentiment(text)"
      ],
      "execution_count": 60,
      "outputs": [
        {
          "output_type": "stream",
          "name": "stdout",
          "text": [
            "Positive score: 9.50550238485448e-05\n",
            "Negative score: 0.999904990196228\n",
            "Review text: Movie is the worst one I have ever seen!! The story has no meaning at all\n",
            "Sentiment  : negative\n"
          ]
        }
      ]
    },
    {
      "cell_type": "code",
      "metadata": {
        "id": "2oO0OhNoF4wo",
        "outputId": "37cf7ec2-2564-435c-8007-33c77daa3191",
        "colab": {
          "base_uri": "https://localhost:8080/"
        }
      },
      "source": [
        "text = \"This is the best movie I have ever seen!! The story is such a motivation\"\n",
        "predict_sentiment(text)"
      ],
      "execution_count": 61,
      "outputs": [
        {
          "output_type": "stream",
          "name": "stdout",
          "text": [
            "Positive score: 0.999636173248291\n",
            "Negative score: 0.0003637908084783703\n",
            "Review text: This is the best movie I have ever seen!! The story is such a motivation\n",
            "Sentiment  : positive\n"
          ]
        }
      ]
    },
    {
      "cell_type": "code",
      "source": [
        "from sklearn.metrics import roc_curve, auc\n",
        "import matplotlib.pyplot as plt\n",
        "\n",
        "def plot_roc_curve(y_true, y_scores):\n",
        "    \"\"\"\n",
        "    Plot the ROC curve.\n",
        "    \"\"\"\n",
        "    # Compute ROC curve and AUC\n",
        "    fpr, tpr, _ = roc_curve(y_true, y_scores)\n",
        "    roc_auc = auc(fpr, tpr)\n",
        "\n",
        "    # Plot the ROC curve\n",
        "    plt.figure(figsize=(8, 6))\n",
        "    plt.plot(fpr, tpr, color='blue', lw=2, label=f'ROC curve (AUC = {roc_auc:.2f})')\n",
        "    plt.plot([0, 1], [0, 1], color='gray', linestyle='--')  # Diagonal line\n",
        "    plt.xlim([0.0, 1.0])\n",
        "    plt.ylim([0.0, 1.05])\n",
        "    plt.xlabel('False Positive Rate')\n",
        "    plt.ylabel('True Positive Rate')\n",
        "    plt.title('Receiver Operating Characteristic (ROC)')\n",
        "    plt.legend(loc=\"lower right\")\n",
        "    plt.grid()\n",
        "    plt.show()\n",
        "\n",
        "# Get predictions and probabilities\n",
        "y_review_texts, y_pred, y_pred_probs, y_test = get_predictions(\n",
        "    model,\n",
        "    test_data_loader\n",
        ")\n",
        "\n",
        "# Convert tensors to NumPy arrays for ROC curve\n",
        "y_test_np = y_test.numpy()\n",
        "y_pred_probs_np = y_pred_probs[:, 1].numpy()  # Probabilities for the positive class\n",
        "\n",
        "# Plot the ROC curve\n",
        "plot_roc_curve(y_test_np, y_pred_probs_np)\n"
      ],
      "metadata": {
        "colab": {
          "base_uri": "https://localhost:8080/",
          "height": 635
        },
        "id": "5DAuIa8l7rje",
        "outputId": "17a56b8f-86e1-484c-c2ba-72e03572d2c6"
      },
      "execution_count": 62,
      "outputs": [
        {
          "output_type": "stream",
          "name": "stderr",
          "text": [
            "/usr/local/lib/python3.10/dist-packages/torch/utils/data/dataloader.py:617: UserWarning: This DataLoader will create 4 worker processes in total. Our suggested max number of worker in current system is 2, which is smaller than what this DataLoader is going to create. Please be aware that excessive worker creation might get DataLoader running slow or even freeze, lower the worker number to avoid potential slowness/freeze if necessary.\n",
            "  warnings.warn(\n"
          ]
        },
        {
          "output_type": "display_data",
          "data": {
            "text/plain": [
              "<Figure size 800x600 with 1 Axes>"
            ],
            "image/png": "[encoded data removed]"
          },
          "metadata": {
            "image/png": {
              "width": 722,
              "height": 563
            }
          }
        }
      ]
    },
    {
      "cell_type": "code",
      "source": [
        "from sklearn.metrics import confusion_matrix\n",
        "import seaborn as sns\n",
        "\n",
        "def plot_confusion_matrix(y_true, y_pred):\n",
        "    cm = confusion_matrix(y_true, y_pred)\n",
        "    plt.figure(figsize=(8, 6))\n",
        "    sns.heatmap(cm, annot=True, fmt=\"d\", cmap=\"Blues\", xticklabels=class_names, yticklabels=class_names)\n",
        "    plt.xlabel('Predicted')\n",
        "    plt.ylabel('True')\n",
        "    plt.title('Confusion Matrix')\n",
        "    plt.show()\n",
        "\n",
        "# Call this after getting predictions\n",
        "plot_confusion_matrix(y_test, y_pred)\n"
      ],
      "metadata": {
        "colab": {
          "base_uri": "https://localhost:8080/",
          "height": 580
        },
        "id": "oqB3dQyH8UX6",
        "outputId": "d18167cd-66aa-4662-fc36-19b0f4045ccd"
      },
      "execution_count": 63,
      "outputs": [
        {
          "output_type": "display_data",
          "data": {
            "text/plain": [
              "<Figure size 800x600 with 2 Axes>"
            ],
            "image/png": "[encoded data removed]"
          },
          "metadata": {
            "image/png": {
              "width": 687,
              "height": 563
            }
          }
        }
      ]
    },
    {
      "cell_type": "code",
      "source": [
        "from sklearn.metrics import precision_recall_curve\n",
        "from sklearn.metrics import average_precision_score\n",
        "import matplotlib.pyplot as plt\n",
        "\n",
        "# Calculate precision and recall\n",
        "precision, recall, _ = precision_recall_curve(y_test, y_pred_probs[:, 1])\n",
        "\n",
        "# Plot the Precision-Recall curve\n",
        "plt.figure(figsize=(8, 6))\n",
        "plt.plot(recall, precision, color='blue', label='Precision-Recall Curve')\n",
        "plt.fill_between(recall, precision, alpha=0.2, color='blue')\n",
        "plt.xlabel('Recall')\n",
        "plt.ylabel('Precision')\n",
        "plt.title('Precision-Recall Curve')\n",
        "plt.legend()\n",
        "plt.grid()\n",
        "plt.show()\n",
        "\n",
        "# Optionally, print the average precision score\n",
        "print(\"Average Precision Score: \", average_precision_score(y_test, y_pred_probs[:, 1]))\n"
      ],
      "metadata": {
        "colab": {
          "base_uri": "https://localhost:8080/",
          "height": 597
        },
        "id": "AHH4MLaIBLgr",
        "outputId": "8791b309-f578-4448-b4dd-d1f21b7f1475"
      },
      "execution_count": 64,
      "outputs": [
        {
          "output_type": "display_data",
          "data": {
            "text/plain": [
              "<Figure size 800x600 with 1 Axes>"
            ],
            "image/png": "[encoded data removed]"
          },
          "metadata": {
            "image/png": {
              "width": 707,
              "height": 563
            }
          }
        },
        {
          "output_type": "stream",
          "name": "stdout",
          "text": [
            "Average Precision Score:  0.9837434217208012\n"
          ]
        }
      ]
    }
  ]
}